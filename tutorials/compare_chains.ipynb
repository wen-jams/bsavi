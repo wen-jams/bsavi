{
 "cells": [
  {
   "attachments": {},
   "cell_type": "markdown",
   "id": "c17e3f1b-c924-4ce7-88b4-770fd61593ff",
   "metadata": {},
   "source": [
    "# Compare Chains\n",
    "Let's say that you suspect that some of your chains are evil, and you want to see where they live in the parameter space. Here's how inviz can help you do that!"
   ]
  },
  {
   "cell_type": "code",
   "execution_count": null,
   "id": "f02e2d2c-82f6-4886-9125-0a47ffd8a91c",
   "metadata": {},
   "outputs": [],
   "source": [
    "from inviz import *\n",
    "hv.extension('bokeh')\n",
    "pn.extension()"
   ]
  },
  {
   "attachments": {},
   "cell_type": "markdown",
   "id": "6425952a-8c04-43db-8d04-e9d4fb3b01f4",
   "metadata": {},
   "source": [
    "First we need to load the chains, which are plain txt files, and process them into Holoviews Dataset objects. Inviz has two functions that can process your chains:\n",
    "- `load_params` : parses the *.paramnames* file\n",
    "- `load_data` : parses the *.txt* files in which the chains are located\n",
    "\n",
    "Suppose the last 6 chains in the `test_IDM_n_0` dataset are bad. We can slit them up into two dataframes like so:"
   ]
  },
  {
   "cell_type": "code",
   "execution_count": null,
   "id": "07a974d6-5d21-455c-a606-df6bed54d045",
   "metadata": {},
   "outputs": [],
   "source": [
    "param_names = load_params('/home/jswen/dev/inviz/data/test_IDM_n_0/2022-05-04_75000_.paramnames')\n",
    "good_df = pd.DataFrame(columns=param_names)\n",
    "bad_df = pd.DataFrame(columns=param_names)\n",
    "\n",
    "for i in trange(1,51):\n",
    "    temp1 = load_data('/home/jswen/dev/inviz/data/test_IDM_n_0/2022-05-04_75000__{}.txt'.format(i), column_names=param_names)\n",
    "    good_df = pd.concat([good_df,temp1]).reset_index(drop=True)\n",
    "    \n",
    "for j in trange(51,57):\n",
    "    temp2 = load_data('/home/jswen/dev/inviz/data/test_IDM_n_0/2022-05-04_75000__{}.txt'.format(j), column_names=param_names)\n",
    "    bad_df = pd.concat([bad_df,temp2]).reset_index(drop=True)"
   ]
  },
  {
   "attachments": {},
   "cell_type": "markdown",
   "id": "a9538e7b-48be-43d3-9a34-c7f69412a08a",
   "metadata": {},
   "source": [
    "If you want to see less data points in the final scatter plot, you can slice the dataframes. After slicing, we turn them into Holoviews Dataset objects. These objects allow us to specify **labels** for our data and **key dimensions** (kdims) which will become our x and y axes."
   ]
  },
  {
   "cell_type": "code",
   "execution_count": null,
   "id": "06cb8cfe-034e-4202-baf5-fdc8ec8f507f",
   "metadata": {},
   "outputs": [],
   "source": [
    "good_df_slice = good_df[::200]\n",
    "new_good_df = good_df_slice.reset_index(drop=True)\n",
    "bad_df_slice = bad_df[::200]\n",
    "new_bad_df = bad_df_slice.reset_index(drop=True)\n",
    "\n",
    "# modify the kdims to be any two parameters you want. make sure they match so they can be overlaid on the same plot.\n",
    "good_ds = hv.Dataset(new_good_df, ['omega_b', '100theta_s'], label='good')\n",
    "bad_ds = hv.Dataset(new_bad_df, ['omega_b', '100theta_s'], label='bad')"
   ]
  },
  {
   "attachments": {},
   "cell_type": "markdown",
   "id": "b24c2552-6bd7-44d0-a81d-de13203f93cf",
   "metadata": {},
   "source": [
    "Those datasets will then be passed into the following function (it's not part of the official package on pyPI yet, which is why it's written out here):"
   ]
  },
  {
   "cell_type": "code",
   "execution_count": null,
   "id": "7560627e-a161-4802-8e85-1703bb51c39a",
   "metadata": {},
   "outputs": [],
   "source": [
    "def compare_two_chainz(dataset1, dataset2):\n",
    "    hover = HoverTool(tooltips=None)\n",
    "    \n",
    "    # generate point plots for both datasets and set them as data stream sources\n",
    "    pts1 = hv.Points(dataset1)\n",
    "    pts2 = hv.Points(dataset2)\n",
    "    sel1 = streams.Selection1D(source=pts1)\n",
    "    sel2 = streams.Selection1D(source=pts2)\n",
    "\n",
    "    colorcode_good_bad = hv.Overlay([pts1, pts2]).opts(\n",
    "        opts.Points(\n",
    "            width=400,\n",
    "            height=400,\n",
    "            size=5,\n",
    "            alpha=0.5,\n",
    "            selection_alpha=1,\n",
    "            nonselection_alpha=0.1,\n",
    "            tools=[hover,'box_select','lasso_select','tap']\n",
    "        ),\n",
    "        opts.Overlay(\n",
    "            legend_position='bottom_right'\n",
    "        )\n",
    "    )\n",
    "\n",
    "    # generate a table of all the selected points on the point plot\n",
    "    def sel_table(dataset, stream):\n",
    "        table = hv.DynamicMap(lambda index: hv.Table(dataset.iloc[index]), streams=[stream])\n",
    "        return table\n",
    "\n",
    "    # do it for both datasets\n",
    "    good_table = sel_table(dataset1, sel1)\n",
    "    bad_table = sel_table(dataset2, sel2)\n",
    "\n",
    "    # formatting the table\n",
    "    def hook(plot, element):\n",
    "        plot.handles['table'].autosize_mode = \"none\"\n",
    "        for column in plot.handles['table'].columns:\n",
    "            column.width = 100\n",
    "\n",
    "    table_options = opts.Table(\n",
    "        height=150,\n",
    "        width=1000,\n",
    "        hooks=[hook]\n",
    "    )\n",
    "\n",
    "    # put it all together\n",
    "    selections_good_bad = good_table + bad_table\n",
    "    selections_good_bad = selections_good_bad.opts(table_options).cols(1)\n",
    "    dashboard = pn.Row(colorcode_good_bad, selections_good_bad)\n",
    "    return dashboard"
   ]
  },
  {
   "attachments": {},
   "cell_type": "markdown",
   "id": "e3b6ab11-be81-4640-a53f-9d62895e82ca",
   "metadata": {},
   "source": [
    "Call the function with our good and bad datasets as arguments:"
   ]
  },
  {
   "cell_type": "code",
   "execution_count": null,
   "id": "fba74834-8498-44fa-8deb-925309d7bac7",
   "metadata": {},
   "outputs": [],
   "source": [
    "compare_two_chainz(good_ds, bad_ds)"
   ]
  },
  {
   "cell_type": "code",
   "execution_count": null,
   "id": "a3343b22-6844-4afb-9472-77f246a7793c",
   "metadata": {},
   "outputs": [],
   "source": []
  }
 ],
 "metadata": {
  "kernelspec": {
   "display_name": "Python 3 (ipykernel)",
   "language": "python",
   "name": "python3"
  },
  "language_info": {
   "codemirror_mode": {
    "name": "ipython",
    "version": 3
   },
   "file_extension": ".py",
   "mimetype": "text/x-python",
   "name": "python",
   "nbconvert_exporter": "python",
   "pygments_lexer": "ipython3",
   "version": "3.10.9"
  }
 },
 "nbformat": 4,
 "nbformat_minor": 5
}
