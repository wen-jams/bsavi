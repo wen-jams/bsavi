{
 "cells": [
  {
   "cell_type": "markdown",
   "id": "7ce9b6e6-da62-466b-b319-59dc94a60791",
   "metadata": {},
   "source": [
    "# Quickstart\n",
    "Follow along for a basic example of how to use InViz."
   ]
  },
  {
   "cell_type": "markdown",
   "id": "4cbb93e7-8173-4505-ab8e-f3c7c4bea32e",
   "metadata": {},
   "source": [
    "Imports:"
   ]
  },
  {
   "cell_type": "code",
   "execution_count": null,
   "id": "94c8332d-f1bb-4013-8592-44a5c46c904c",
   "metadata": {},
   "outputs": [],
   "source": [
    "import pandas as pd\n",
    "import numpy as np\n",
    "import inviz as iv"
   ]
  },
  {
   "cell_type": "markdown",
   "id": "1acb6d92-3fe5-4b8b-936b-a1c701b6c407",
   "metadata": {},
   "source": [
    "Set up some random data:"
   ]
  },
  {
   "cell_type": "code",
   "execution_count": null,
   "id": "cd635818-1fd0-4558-9d4f-66f96fb12a01",
   "metadata": {},
   "outputs": [],
   "source": [
    "data = pd.DataFrame(np.random.rand(100, 4), columns=list('ABCD'))"
   ]
  },
  {
   "cell_type": "markdown",
   "id": "1bb6c5b2-ceb1-4df4-ba12-e1bbcc557750",
   "metadata": {},
   "source": [
    "Now take each row of ABCD values in our data and plug them into a polynomial function:\n",
    "$$\n",
    "y(x) = Ax^B + Cx^D\n",
    "$$\n"
   ]
  },
  {
   "cell_type": "code",
   "execution_count": null,
   "id": "ad7ce15e-aec8-491a-9698-c2d4526e7c92",
   "metadata": {},
   "outputs": [],
   "source": [
    "xs = []\n",
    "ys = []\n",
    "for i in range(0,100):\n",
    "    x = np.linspace(0, 10, 100)\n",
    "    xs.append(x)\n",
    "    y = data.at[i, 'A'] * x**data.at[i, 'B'] + data.at[i, 'C'] * x**data.at[i, 'D']\n",
    "    ys.append(y)\n",
    "poly_df = pd.DataFrame({'x': xs, 'y': ys})"
   ]
  },
  {
   "cell_type": "markdown",
   "id": "ee1c43a9-74b5-4010-bc29-e69e3abe3ec2",
   "metadata": {},
   "source": [
    "To visualize this, first construct an Observable object:"
   ]
  },
  {
   "cell_type": "code",
   "execution_count": null,
   "id": "417a0019-0725-4619-a692-078f36c8040c",
   "metadata": {
    "tags": []
   },
   "outputs": [],
   "source": [
    "polynomials = iv.Observable(name='polynomials', parameters=[poly_df], plot_type='Curve')"
   ]
  },
  {
   "cell_type": "markdown",
   "id": "ec1e5d71-a6f6-446c-963e-424328545c58",
   "metadata": {},
   "source": [
    "This contains the basic information required by InViz to visualize the function:\n",
    "\n",
    "- Name: what to title the plot\n",
    "- Parameters: the dataset containing the function values we just calculated\n",
    "- Plot Type: what kind of plot to make (i.e. curve, scatter, etc.)\n",
    "\n",
    "Then, call the Viz function to see the dashboard:"
   ]
  },
  {
   "cell_type": "code",
   "execution_count": null,
   "id": "e3a95e3c-f3a5-480c-b662-cfd3e2f8f9a2",
   "metadata": {
    "tags": []
   },
   "outputs": [],
   "source": [
    "iv.viz(data, observables=[polynomials]).servable()"
   ]
  },
  {
   "cell_type": "markdown",
   "id": "e02bfff6-9353-4062-b614-bbabab1cab8c",
   "metadata": {},
   "source": [
    "You should see the dashboard displayed below the above cell. If you'd rather see it in a separate browser window, run the cell below."
   ]
  },
  {
   "cell_type": "code",
   "execution_count": null,
   "id": "ba42cb35-c97e-470b-9ceb-dde44a9f9eb0",
   "metadata": {},
   "outputs": [],
   "source": [
    "server = iv.viz(data, observables=[polynomials]).show()"
   ]
  },
  {
   "cell_type": "markdown",
   "id": "9769180c-0709-47aa-92de-a2a91c9485e5",
   "metadata": {},
   "source": [
    "Once you are done, stop the server with:"
   ]
  },
  {
   "cell_type": "code",
   "execution_count": null,
   "id": "fd8adf80-e13f-412e-aa83-b25e16bcbe8d",
   "metadata": {},
   "outputs": [],
   "source": [
    "server.stop()"
   ]
  }
 ],
 "metadata": {
  "kernelspec": {
   "display_name": "Python 3 (ipykernel)",
   "language": "python",
   "name": "python3"
  },
  "language_info": {
   "codemirror_mode": {
    "name": "ipython",
    "version": 3
   },
   "file_extension": ".py",
   "mimetype": "text/x-python",
   "name": "python",
   "nbconvert_exporter": "python",
   "pygments_lexer": "ipython3",
   "version": "3.10.9"
  }
 },
 "nbformat": 4,
 "nbformat_minor": 5
}
