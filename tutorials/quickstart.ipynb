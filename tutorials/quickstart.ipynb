{
 "cells": [
  {
   "cell_type": "markdown",
   "id": "7ce9b6e6-da62-466b-b319-59dc94a60791",
   "metadata": {},
   "source": [
    "# Quickstart\n",
    "Follow this notebook if you already have likelihoods and pre-computed observables."
   ]
  },
  {
   "cell_type": "code",
   "execution_count": null,
   "id": "94c8332d-f1bb-4013-8592-44a5c46c904c",
   "metadata": {},
   "outputs": [],
   "source": [
    "import pandas as pd\n",
    "import numpy as np\n",
    "import inviz as iv"
   ]
  },
  {
   "cell_type": "markdown",
   "id": "1acb6d92-3fe5-4b8b-936b-a1c701b6c407",
   "metadata": {},
   "source": [
    "To visualize interactively visualize your likelihood:"
   ]
  },
  {
   "cell_type": "code",
   "execution_count": null,
   "id": "cd635818-1fd0-4558-9d4f-66f96fb12a01",
   "metadata": {},
   "outputs": [],
   "source": [
    "like = pd.DataFrame(np.random.rand(100, 4), columns=list('ABCD'))"
   ]
  },
  {
   "cell_type": "code",
   "execution_count": null,
   "id": "eda668dd-8e3f-450d-b6b9-bd8fb5c8f01e",
   "metadata": {},
   "outputs": [],
   "source": [
    "iv.viz(like, show_observables=False).servable()"
   ]
  },
  {
   "cell_type": "markdown",
   "id": "1bb6c5b2-ceb1-4df4-ba12-e1bbcc557750",
   "metadata": {},
   "source": [
    "To visualize your likelihood with observables:"
   ]
  },
  {
   "cell_type": "code",
   "execution_count": null,
   "id": "ad7ce15e-aec8-491a-9698-c2d4526e7c92",
   "metadata": {},
   "outputs": [],
   "source": [
    "xs = []\n",
    "ys = []\n",
    "for i in range(0,100):\n",
    "    x = np.linspace(0, 10, 100)\n",
    "    xs.append(x)\n",
    "    y = like.at[i, 'A'] * x**like.at[i, 'B'] * like.at[i, 'C'] * x**like.at[i, 'D']\n",
    "    ys.append(y)\n",
    "obs = pd.DataFrame({'x': xs, 'y': ys})"
   ]
  },
  {
   "cell_type": "code",
   "execution_count": null,
   "id": "417a0019-0725-4619-a692-078f36c8040c",
   "metadata": {
    "tags": []
   },
   "outputs": [],
   "source": [
    "polynomials = iv.Observable(name='polynomials', parameters=[obs], plot_type='Curve')"
   ]
  },
  {
   "cell_type": "code",
   "execution_count": null,
   "id": "e3a95e3c-f3a5-480c-b662-cfd3e2f8f9a2",
   "metadata": {
    "tags": []
   },
   "outputs": [],
   "source": [
    "iv.viz(likelihood, observables=[polynomials]).servable()"
   ]
  },
  {
   "cell_type": "code",
   "execution_count": null,
   "id": "d405c47a-a5c1-4783-bc2f-eec71aef28e7",
   "metadata": {},
   "outputs": [],
   "source": []
  }
 ],
 "metadata": {
  "kernelspec": {
   "display_name": "Python 3 (ipykernel)",
   "language": "python",
   "name": "python3"
  },
  "language_info": {
   "codemirror_mode": {
    "name": "ipython",
    "version": 3
   },
   "file_extension": ".py",
   "mimetype": "text/x-python",
   "name": "python",
   "nbconvert_exporter": "python",
   "pygments_lexer": "ipython3",
   "version": "3.10.9"
  }
 },
 "nbformat": 4,
 "nbformat_minor": 5
}
