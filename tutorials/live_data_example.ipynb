{
 "cells": [
  {
   "cell_type": "markdown",
   "id": "e9f315b1-737c-446b-8ded-92d0350a04c5",
   "metadata": {},
   "source": [
    "# InViz: Live Computation Example\n",
    "\n",
    "In this notebook, we'll see how you can plug any function you want into InViz to help visualize the relationship between parameters and observables."
   ]
  },
  {
   "cell_type": "code",
   "execution_count": null,
   "id": "88afa731-a46a-4c48-a099-58c1ddac755a",
   "metadata": {},
   "outputs": [],
   "source": [
    "import inviz as nv\n",
    "import holoviews as hv\n",
    "from holoviews import opts\n",
    "import numpy as np\n",
    "import pandas as pd\n",
    "from scipy import signal"
   ]
  },
  {
   "cell_type": "markdown",
   "id": "e263961e-f73e-495d-8009-1c252f051bca",
   "metadata": {},
   "source": [
    "Suppose we want to visualize how changes in amplitude, frequency, and phase affect some wave functions. Let's choose the sine and sinc functions, and we'll also throw in a sawtooth wave just for fun.\n",
    "\n",
    "A sine wave can be defined as:\n",
    "$$\n",
    "y(x) = A \\sin{(2\\pi f x + \\phi)} = A \\sin{(\\omega x + \\phi)}\n",
    "$$\n",
    "where $A$ is the amplitude, $f$ is the frequency, $\\omega$ is the angular frequency, and $\\phi$ is the phase.\n",
    "\n",
    "The sinc function is simply:\n",
    "$$\n",
    "\\mathrm{sinc}~(x) = \\frac{\\sin{(x)}}{x}\n",
    "$$\n",
    "\n",
    "The sawtooth wave is a bit more complicated. You can read more about it [here](https://en.wikipedia.org/wiki/Sawtooth_wave)."
   ]
  },
  {
   "cell_type": "markdown",
   "id": "db2b2514-b302-4c08-a5aa-50c59ebecf61",
   "metadata": {
    "tags": []
   },
   "source": [
    "First let's generate some random data:"
   ]
  },
  {
   "cell_type": "code",
   "execution_count": null,
   "id": "7494def3-505b-40d1-9ba2-c15fae8271ce",
   "metadata": {},
   "outputs": [],
   "source": [
    "# Set up the parameters of the problem.\n",
    "ndim, nsamples = 3, 1000\n",
    "\n",
    "# Generate some fake data.\n",
    "np.random.seed(42)\n",
    "data1 = np.random.randn(ndim * 4 * nsamples // 5).reshape(\n",
    "    [4 * nsamples // 5, ndim]\n",
    ")\n",
    "data2 = 4 * np.random.rand(ndim)[None, :] + np.random.randn(\n",
    "    ndim * nsamples // 5\n",
    ").reshape([nsamples // 5, ndim])\n",
    "data = np.vstack([data1, data2])"
   ]
  },
  {
   "cell_type": "markdown",
   "id": "a13aeafb-603d-4f6b-bc38-c1240d773767",
   "metadata": {},
   "source": [
    "Now let's convert it into a pandas DataFrame (InViz only accepts DataFrames, for now) and add labels with some fancy $\\LaTeX$ formatting:"
   ]
  },
  {
   "cell_type": "code",
   "execution_count": null,
   "id": "90bbd34e-35ab-42e4-9c3e-89822429a67a",
   "metadata": {},
   "outputs": [],
   "source": [
    "param_names = ['frequency', 'phase', 'amplitude']\n",
    "latex = ['\\omega / 2\\pi', '\\phi', '\\mathrm{amplitude}']\n",
    "df = pd.DataFrame(data, columns=param_names)\n",
    "latex_dict = dict(zip(params, latex))"
   ]
  },
  {
   "cell_type": "markdown",
   "id": "a77d6987-e53d-4323-908e-b04482a0b1a4",
   "metadata": {},
   "source": [
    "Next, we will define the function that takes a row of input data and uses it to compute the three waveforms. Note that the function must return data in a dictionary with the following format:\n",
    "\n",
    "```python\n",
    "results = {\n",
    "    'observable 1': {'x': x, 'a': a},\n",
    "    'observable 2': {'y': y, 'b': b},\n",
    "    'observable 3': {'z': z, 'c': c}, \n",
    "}\n",
    "```\n",
    "\n",
    "The values x, y, z will go on the horizontal axes of each graph, and a, b, c will go on the vertical axes. The keys will be used as the title and axis labels of each respective plot. \n",
    "\n",
    "Like so:"
   ]
  },
  {
   "cell_type": "code",
   "execution_count": null,
   "id": "194f26b0-632d-41b7-9740-8e065b24ddd4",
   "metadata": {},
   "outputs": [],
   "source": [
    "def example_observables(index, input_data):\n",
    "    selection = input_data.iloc[[index]]\n",
    "    x = np.linspace(-2*np.pi, 2*np.pi, 201)\n",
    "    angular_freq = 2*np.pi*float(selection['frequency'])\n",
    "    phase = float(selection['phase'])\n",
    "    amp = float(selection['amplitude'])\n",
    "    sin = amp * np.sin(angular_freq*x + phase)\n",
    "    sinc = amp * np.sinc(angular_freq*x/np.pi + phase)\n",
    "    sawtooth = amp * signal.sawtooth(angular_freq * x + phase)\n",
    "    funcs = {\n",
    "        'Sine': {'x': x, 'sin(x)': sin}, \n",
    "        'Sinc': {'x': x, 'sinc(x)': sinc}, \n",
    "        'Sawtooth': {'x': x, 'sawtooth(x)': sawtooth}}\n",
    "    return funcs\n",
    "    "
   ]
  },
  {
   "cell_type": "markdown",
   "id": "e3f15f80-aed1-4608-8b14-d78b2502438b",
   "metadata": {},
   "source": [
    "Then, we use a HoloViews `opts` object to customize the observable plots."
   ]
  },
  {
   "cell_type": "code",
   "execution_count": null,
   "id": "95e0aec4-8682-464c-b0df-243ebac554d5",
   "metadata": {},
   "outputs": [],
   "source": [
    "exopts = opts.Curve(xlim=(-2*np.pi, 2*np.pi), height=400, width=500, color=hv.Cycle('GnBu'), bgcolor='#22262F')"
   ]
  },
  {
   "cell_type": "markdown",
   "id": "95153988-0ea4-4d18-8dc1-cfbd2c436f59",
   "metadata": {},
   "source": [
    "Finally, we will use `nv.viz` to interactively visualize the whole thing. Here's an overview of the function arguments:\n",
    "- __data__: (Pandas DataFrame) the data you want shown as a scatter plot\n",
    "- __data_observable__: (Pandas DataFrame) the observables you'd like to plot\n",
    "- __myfunction__: (function) your function that computes some observables based on a data point\n",
    "- __myfunction_args__: (tuple) the arguments of that function\n",
    "- __show_observables__: (Boolean) whether you want to see the observable plots or not \n",
    "- __latex_dict__: (dict) a dictionary containing the Latex formatting for your axis labels (default = None)\n",
    "- __curve_opts__: (HoloViews Options) the option builder used by HoloViews to customize plots ([more info](https://holoviews.org/user_guide/Applying_Customizations.html#option-builders))\n",
    "\n",
    "**IMPORTANT**: only pass arguments into __either__ `data_observable` __or__ `myfunction + myfunction_args`, depending on if you have a precalculated observable dataset, or you want to dynamically calculate them with a custom function.\n",
    "\n",
    "Run the cell below to test out the interactivity by selecting points on the scatterplot in the top section, and see what appears on the plots in the bottom section!"
   ]
  },
  {
   "cell_type": "code",
   "execution_count": null,
   "id": "a0b7fd3f-1b3c-424d-92a7-4248d040e5fa",
   "metadata": {},
   "outputs": [],
   "source": [
    "nv.viz(data=df, myfunction=example_observables, myfunction_args=(df,), show_observables=True, latex_dict=latex_dict, curve_opts=exopts)"
   ]
  },
  {
   "cell_type": "code",
   "execution_count": null,
   "id": "a4f8ce23-e928-4144-958a-058e4b293e23",
   "metadata": {},
   "outputs": [],
   "source": []
  }
 ],
 "metadata": {
  "kernelspec": {
   "display_name": "Python [conda env:inviz]",
   "language": "python",
   "name": "conda-env-inviz-py"
  },
  "language_info": {
   "codemirror_mode": {
    "name": "ipython",
    "version": 3
   },
   "file_extension": ".py",
   "mimetype": "text/x-python",
   "name": "python",
   "nbconvert_exporter": "python",
   "pygments_lexer": "ipython3",
   "version": "3.10.9"
  }
 },
 "nbformat": 4,
 "nbformat_minor": 5
}
