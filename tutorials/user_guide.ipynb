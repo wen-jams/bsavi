{
 "cells": [
  {
   "cell_type": "markdown",
   "id": "f25b6701-dcaa-41df-ac8a-2c9911822b5a",
   "metadata": {},
   "source": [
    "# User Guide\n",
    "Full user guide for Inviz."
   ]
  },
  {
   "cell_type": "code",
   "execution_count": null,
   "id": "028470b5-55b7-4b86-9471-c041bf4a19ac",
   "metadata": {},
   "outputs": [],
   "source": []
  }
 ],
 "metadata": {
  "kernelspec": {
   "display_name": "Python 3 (ipykernel)",
   "language": "python",
   "name": "python3"
  },
  "language_info": {
   "codemirror_mode": {
    "name": "ipython",
    "version": 3
   },
   "file_extension": ".py",
   "mimetype": "text/x-python",
   "name": "python",
   "nbconvert_exporter": "python",
   "pygments_lexer": "ipython3",
   "version": "3.10.9"
  }
 },
 "nbformat": 4,
 "nbformat_minor": 5
}
