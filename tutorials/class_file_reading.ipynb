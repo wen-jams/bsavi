{
 "cells": [
  {
   "cell_type": "markdown",
   "id": "fdcf34bf-b9ca-4efb-8822-9023a9bc95b7",
   "metadata": {},
   "source": [
    "# CLASS Cosmology File Reading Example\n",
    "Here we investigate how different models of dark matter impact our observations of the universe. \n",
    "We use InViz to visualize the percent difference between a cosmology with interacting dark matter and standard Lambda CDM as residuals in three observables: $P(k)$, $C_{l}^{TT}$ and $C_{l}^{EE}$."
   ]
  },
  {
   "cell_type": "code",
   "execution_count": null,
   "id": "67d57e97-37b8-4162-9171-641a11cfc377",
   "metadata": {},
   "outputs": [],
   "source": [
    "import pandas as pd\n",
    "import numpy as np"
   ]
  },
  {
   "cell_type": "code",
   "execution_count": null,
   "id": "b4b8edf4-0328-4c40-b1f9-1317de6f74fd",
   "metadata": {},
   "outputs": [],
   "source": [
    "mycosmo = pd.read_json('../data/chains_planckbossdes_1MeV/resids.json')\n",
    "chains = mycosmo.drop(columns=['p(k)', 'cl_tt', 'cl_ee'])\n",
    "resids = mycosmo[['p(k)', 'cl_tt', 'cl_ee']]"
   ]
  },
  {
   "cell_type": "code",
   "execution_count": null,
   "id": "5c2ab634-d618-4e33-9efc-4f0ed3a05595",
   "metadata": {
    "tags": []
   },
   "outputs": [],
   "source": [
    "import inviz as iv\n",
    "from holoviews import opts\n",
    "\n",
    "cosmo_copts = opts.Curve(\n",
    "    logx=True, \n",
    "    bgcolor='#22262F', \n",
    ")\n",
    "residuals = iv.Observable(\n",
    "    name=['P(k) Residuals', 'Cl_TT Residuals', 'Cl_EE Residuals'], \n",
    "    parameters=resids,\n",
    "    plot_type='Curve',\n",
    "    plot_opts=cosmo_copts,\n",
    ")"
   ]
  },
  {
   "cell_type": "code",
   "execution_count": null,
   "id": "e59443e3-7c73-428f-b6e4-2e467167ecda",
   "metadata": {
    "tags": []
   },
   "outputs": [],
   "source": [
    "iv.viz(chains, [residuals]).servable()"
   ]
  },
  {
   "cell_type": "code",
   "execution_count": null,
   "id": "fb3c5090-7839-41e5-bd1f-aab408180694",
   "metadata": {},
   "outputs": [],
   "source": []
  }
 ],
 "metadata": {
  "kernelspec": {
   "display_name": "Python 3 (ipykernel)",
   "language": "python",
   "name": "python3"
  },
  "language_info": {
   "codemirror_mode": {
    "name": "ipython",
    "version": 3
   },
   "file_extension": ".py",
   "mimetype": "text/x-python",
   "name": "python",
   "nbconvert_exporter": "python",
   "pygments_lexer": "ipython3",
   "version": "3.10.9"
  }
 },
 "nbformat": 4,
 "nbformat_minor": 5
}
