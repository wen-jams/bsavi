{
 "cells": [
  {
   "cell_type": "markdown",
   "id": "eef4a85c-61a7-4d7b-b632-a246f3f31845",
   "metadata": {},
   "source": [
    "# Inviz Example\n",
    "\n",
    "Inviz was made for exploring cosmological theories. It has the ability to interface with whatever version of the CLASS cosmology code you have installed to compute observables based on input data, and compare them to the $\\Lambda$CDM model. In this notebook, we're going to be exploring a set of data that represents a theory of interacting dark matter (IDM). They can be found in the data/test_IDM_n_0 folder on GitHub.\n",
    "\n",
    "*Note*: this notebook uses the latest release of inviz on pypi.org. Things like function arguments and required data preprocessing might not match up with the latest version on GitHub."
   ]
  },
  {
   "cell_type": "code",
   "execution_count": null,
   "id": "deb64c50-9025-4d7e-aca6-22a3986ad339",
   "metadata": {},
   "outputs": [],
   "source": [
    "from inviz import *\n",
    "hv.extension('bokeh')\n",
    "pn.extension()"
   ]
  },
  {
   "cell_type": "markdown",
   "id": "6991a10b-b691-4a87-8d40-9f4e67f468c1",
   "metadata": {},
   "source": [
    "The files in the test_IDM_n_0 folder are the following:\n",
    "- The .paramnames file, which is a list of the cosmological parameters spanned by the chains\n",
    "- The chains themselves, which are .txt files and contain values for each parameter \n",
    "\n",
    "Inviz requires Pandas Dataframes as input. We can use inviz's built-in functions for reading in these files and construct a dataframe:\n"
   ]
  },
  {
   "cell_type": "code",
   "execution_count": null,
   "id": "e660e450-4025-4d3f-843d-36f967cb5889",
   "metadata": {},
   "outputs": [],
   "source": [
    "# load in the data\n",
    "loglkl = ['loglkl']\n",
    "param_names, latex_params = load_params('../data/test_IDM_n_0/2022-05-04_75000_.paramnames')\n",
    "params_latex_form = dict(zip(param_names, latex_params))\n",
    "column_names = loglkl + param_names\n",
    "df = pd.DataFrame(columns=column_names)\n",
    "for i in trange(1,57):\n",
    "    temp = load_data('../data/test_IDM_n_0/2022-05-04_75000__{}.txt'.format(i), column_names=column_names)\n",
    "    df = pd.concat([df,temp]).reset_index(drop=True)"
   ]
  },
  {
   "cell_type": "markdown",
   "id": "2fa4511c-4066-4b9b-8a67-939fab089be0",
   "metadata": {},
   "source": [
    "Now, if we want to use CLASS to calculate the observed power spectra resulting from our custom cosmology, we need to modify the chains by removing the nuisance parameters and adding additional CLASS-specific parameters. "
   ]
  },
  {
   "cell_type": "code",
   "execution_count": null,
   "id": "cb5a332b-cf6c-439b-8c4d-718ab5cf8ae5",
   "metadata": {},
   "outputs": [],
   "source": [
    "# prepare your data for CLASS computation. this step is specific to your dataset\n",
    "# remove nuisance parameters\n",
    "cosmo_df = df.drop(columns=['loglkl', 'z_reio', 'A_s', 'sigma8', '100theta_s', 'A_cib_217', 'xi_sz_cib', 'A_sz', 'ps_A_100_100', 'ps_A_143_143', 'ps_A_143_217', 'ps_A_217_217', 'ksz_norm', \n",
    "                 'gal545_A_100', 'gal545_A_143', 'gal545_A_143_217', 'gal545_A_217', 'galf_TE_A_100', 'galf_TE_A_100_143', 'galf_TE_A_100_217', 'galf_TE_A_143', 'galf_TE_A_143_217', \n",
    "                 'galf_TE_A_217', 'calib_100T', 'calib_217T', 'A_planck'])\n",
    "cosmo_df['omega_b'] = df['omega_b'] * 1e-2\n",
    "cosmo_df['sigma_dmeff'] = df['sigma_dmeff'] * 1e-25\n",
    "cosmo_df = cosmo_df.rename(columns={'H0':'h'})\n",
    "cosmo_df['h'] = cosmo_df['h'] * 1e-2\n",
    "cosmo_df['omega_cdm'] = 1e-15\n",
    "cosmo_df['npow_dmeff'] = 0.0\n",
    "cosmo_df['Vrel_dmeff'] = 0.0\n",
    "cosmo_df['dmeff_target'] = 'baryons'\n",
    "cosmo_df['m_dmeff'] = 1e-3\n",
    "\n",
    "# format for CDM version\n",
    "cosmoCDM_df = cosmo_df.drop(columns=['sigma_dmeff', 'omega_cdm', 'npow_dmeff', 'Vrel_dmeff', 'dmeff_target', 'm_dmeff'])\n",
    "cosmoCDM_df = cosmoCDM_df.rename(columns={'omega_dmeff':'omega_cdm'})\n",
    "\n",
    "# slice for faster computation. make sure you slice each dataframe the same way\n",
    "cosmo_df_slice = cosmo_df[::500].reset_index(drop=True)\n",
    "cosmoCDM_df_slice = cosmoCDM_df[::500].reset_index(drop=True)\n",
    "df_slice = df[::500].reset_index(drop=True)"
   ]
  },
  {
   "cell_type": "markdown",
   "id": "15509f11-5e0b-40d8-bae9-6b0f7560e50e",
   "metadata": {},
   "source": [
    "### The Viz Function\n",
    "\n",
    "The viz function generates the entire visualizer and has three arguments:\n",
    "- __data__: (DataFrame) the data you want shown as a scatter plot\n",
    "- __data_classy_input__: (DataFrame) the data that you've prepared to feed into CLASS\n",
    "- __data_classy_CDM__: (DataFrame) the CDM version of that data\n",
    "- __class_enabled__: (Boolean) whether you want to see CLASS compute products or not \n",
    "- __latex_dict__: (dict) a dictionary with the normal param names as keys and the latex-formatted names as values\n",
    "\n",
    "Be aware that if you pass data with categorical values (i.e. strings) in the first argument, the visualizer will break. It's fine to do so for the CLASS arguments though."
   ]
  },
  {
   "cell_type": "code",
   "execution_count": null,
   "id": "3555edfe-a972-483f-bb83-48fd0eb16300",
   "metadata": {},
   "outputs": [],
   "source": [
    "# call the visualizer function\n",
    "viz(df_slice, cosmo_df_slice, cosmoCDM_df_slice, class_enabled=True, latex_dict=params_latex_form)"
   ]
  },
  {
   "cell_type": "code",
   "execution_count": null,
   "id": "f1086383-7797-4f18-91cb-b2a7e30633fc",
   "metadata": {},
   "outputs": [],
   "source": []
  }
 ],
 "metadata": {
  "kernelspec": {
   "display_name": "Python [conda env:inviz-test-py38]",
   "language": "python",
   "name": "conda-env-inviz-test-py38-py"
  },
  "language_info": {
   "codemirror_mode": {
    "name": "ipython",
    "version": 3
   },
   "file_extension": ".py",
   "mimetype": "text/x-python",
   "name": "python",
   "nbconvert_exporter": "python",
   "pygments_lexer": "ipython3",
   "version": "3.8.16"
  }
 },
 "nbformat": 4,
 "nbformat_minor": 5
}
