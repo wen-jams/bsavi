{
 "cells": [
  {
   "cell_type": "markdown",
   "id": "bc2afac0-caa6-43be-8bce-45dd04499c8c",
   "metadata": {},
   "source": [
    "# CLASS Cosmology Quickstart Example\n",
    "If you want to visualize your CLASS outputs with InViz, follow this notebook."
   ]
  },
  {
   "cell_type": "code",
   "execution_count": null,
   "id": "42d46df0-a462-44f2-997a-6dd4c99ff8ca",
   "metadata": {},
   "outputs": [],
   "source": [
    "import inviz as nv\n",
    "from inviz import cosmo\n",
    "import pandas as pd\n",
    "import numpy as np\n",
    "from tqdm import trange\n",
    "import holoviews as hv\n",
    "from holoviews import opts"
   ]
  },
  {
   "cell_type": "code",
   "execution_count": null,
   "id": "b0fbea3e-1eff-4a73-bc12-8716fa1f7a80",
   "metadata": {},
   "outputs": [],
   "source": [
    "# Read in data\n",
    "loglkl = ['loglkl']\n",
    "param_names, latex_params = cosmo.load_params('../data/chains_planckbossdes_1MeV/2022-11-16_3200000_.paramnames')\n",
    "params_latex_form = dict(zip(param_names, latex_params))\n",
    "column_names = loglkl + param_names\n",
    "df = pd.DataFrame(columns=column_names)\n",
    "for i in trange(1,5):\n",
    "    temp = cosmo.load_data('../data/chains_planckbossdes_1MeV/2022-11-16_3200000__{}.txt'.format(i), column_names=column_names)\n",
    "    df = pd.concat([df,temp]).reset_index(drop=True)\n",
    "\n",
    "# prepare data for CLASS computation\n",
    "# remove nuisance parameters\n",
    "classy_input = df.drop(\n",
    "    columns=['loglkl', 'z_reio', 'A_s', 'sigma8', '100theta_s', 'A_cib_217', 'xi_sz_cib', 'A_sz', 'ps_A_100_100', 'ps_A_143_143', \n",
    "             'ps_A_143_217', 'ps_A_217_217', 'ksz_norm', 'gal545_A_100', 'gal545_A_143', 'gal545_A_143_217', 'gal545_A_217', \n",
    "             'galf_TE_A_100', 'galf_TE_A_100_143', 'galf_TE_A_100_217', 'galf_TE_A_143', 'galf_TE_A_143_217', 'galf_TE_A_217', \n",
    "             'calib_100T', 'calib_217T', 'A_planck', 'b^{(1)}_1', 'b^{(1)}_2', 'b^{(1)}_{G_2}', 'b^{(2)}_1', 'b^{(2)}_2', \n",
    "             'b^{(2)}_{G_2}', 'b^{(3)}_1', 'b^{(3)}_2', 'b^{(3)}_{G_2}', 'b^{(4)}_1', 'b^{(4)}_2', 'b^{(4)}_{G_2}']\n",
    ")\n",
    "classy_input['omega_b'] = df['omega_b'] * 1e-2\n",
    "classy_input['sigma_dmeff'] = df['sigma_dmeff'] * 1e-25\n",
    "classy_input = classy_input.rename(columns={'H0':'h'})\n",
    "classy_input['h'] = classy_input['h'] * 1e-2\n",
    "classy_input['f_dmeff'] = 0.1\n",
    "classy_input['npow_dmeff'] = 0.0\n",
    "classy_input['Vrel_dmeff'] = 0.0\n",
    "classy_input['dmeff_target'] = 'baryons'\n",
    "classy_input['m_dmeff'] = 1e-3\n",
    "\n",
    "# format for CDM version\n",
    "#classy_CDM = classy_input.drop(columns=['sigma_dmeff', 'omega_cdm', 'npow_dmeff', 'Vrel_dmeff', 'dmeff_target', 'm_dmeff'])\n",
    "# classy_CDM = classy_CDM.rename(columns={'omega_dmeff':'omega_cdm'})\n",
    "classy_CDM = classy_input.drop(columns=['sigma_dmeff', 'npow_dmeff', 'Vrel_dmeff', 'dmeff_target', 'm_dmeff'])\n",
    "\n",
    "\n",
    "# slice for fast computation\n",
    "classy_input_slice = classy_input[::500].reset_index(drop=True)\n",
    "classy_CDM_slice = classy_CDM[::500].reset_index(drop=True)\n",
    "df_slice = df[::500].reset_index(drop=True)\n",
    "\n",
    "cosmo_copts = opts.Curve(width=500, height=400, logx=True, padding=0.1, fontscale=1.1, color=hv.Cycle('GnBu'), bgcolor='#22262F', framewise=True)\n",
    "cosmo_latex = {\n",
    "    'k': 'k~[h/\\mathrm{Mpc}]',\n",
    "    'pk_residuals': '(P(k)-P_{CDM}(k))/P_{CDM}(k)*100~[\\%]',\n",
    "    'l': '\\ell',\n",
    "    'cl_tt_residuals': '(C_{\\ell}^{TT}-C_{\\ell, CDM}^{TT})/C_{\\ell, CDM}^{TT}*100~[\\%]',\n",
    "    'cl_ee_residuals': '(C_{\\ell}^{EE}-C_{\\ell, CDM}^{EE})/C_{\\ell, CDM}^{EE}*100~[\\%]',\n",
    "}\n",
    "cosmo_observables = nv.Observable(\n",
    "    name=[\n",
    "        'P(k) Residuals', \n",
    "        'Cl_TT Residuals', \n",
    "        'Cl_EE Residuals', \n",
    "    ], \n",
    "    myfunc=cosmo.compute_residuals,\n",
    "    myfunc_args=(classy_input_slice, classy_CDM_slice), \n",
    "    plot_type=[\n",
    "        'Curve', \n",
    "        'Curve', \n",
    "        'Curve', \n",
    "    ],\n",
    "    plot_opts=[\n",
    "        cosmo_copts, \n",
    "        cosmo_copts, \n",
    "        cosmo_copts, \n",
    "    ],\n",
    "    latex_labels=cosmo_latex\n",
    ")"
   ]
  },
  {
   "cell_type": "code",
   "execution_count": null,
   "id": "cc0032e4-1a49-4179-90b1-f19e4f2c5ec6",
   "metadata": {},
   "outputs": [],
   "source": [
    "nv.viz(data=df_slice, observables=[cosmo_observables], latex_dict=params_latex_form).servable()"
   ]
  },
  {
   "cell_type": "code",
   "execution_count": null,
   "id": "8ec6ca00-8414-40fe-94a0-accbe1730e66",
   "metadata": {},
   "outputs": [],
   "source": []
  }
 ],
 "metadata": {
  "kernelspec": {
   "display_name": "Python 3 (ipykernel)",
   "language": "python",
   "name": "python3"
  },
  "language_info": {
   "codemirror_mode": {
    "name": "ipython",
    "version": 3
   },
   "file_extension": ".py",
   "mimetype": "text/x-python",
   "name": "python",
   "nbconvert_exporter": "python",
   "pygments_lexer": "ipython3",
   "version": "3.10.9"
  }
 },
 "nbformat": 4,
 "nbformat_minor": 5
}
