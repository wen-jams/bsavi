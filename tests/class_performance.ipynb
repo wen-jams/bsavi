{
 "cells": [
  {
   "cell_type": "markdown",
   "id": "0e2fe905-e8d3-4343-8499-4c92e3e71d38",
   "metadata": {},
   "source": [
    "# CLASS Performance Testing\n",
    "\n",
    "Various tests of CLASS computation speed. No need to have inviz installed, just Classy and NumPy. Feel free to run these on your machine and add your results below!"
   ]
  },
  {
   "cell_type": "code",
   "execution_count": null,
   "id": "77d06eaa-9a22-468c-a56b-c7cc64da658c",
   "metadata": {},
   "outputs": [],
   "source": [
    "import numpy as np\n",
    "from classy import Class\n",
    "from multiprocessing import Pool"
   ]
  },
  {
   "cell_type": "code",
   "execution_count": null,
   "id": "393afba6-7ade-4df6-b303-26088c0eec8e",
   "metadata": {},
   "outputs": [],
   "source": [
    "test_params = {\n",
    "    'omega_b': 2.268118e-2, \n",
    "    'omega_dmeff': 0.1221163, \n",
    "    'ln10^{10}A_s': 3.048006, \n",
    "    'n_s': 0.9670508, \n",
    "    'tau_reio': 0.05659527, \n",
    "    'sigma_dmeff': 1.193e-25, \n",
    "    'Omega_Lambda': 0.6772064, \n",
    "    'YHe': 0.2479716, \n",
    "    'h': 67.13298e-2,  \n",
    "    'omega_cdm': 1e-15, \n",
    "    'npow_dmeff': 0, \n",
    "    'Vrel_dmeff': 0, \n",
    "    'dmeff_target': 'baryons', \n",
    "    'm_dmeff': 0.001\n",
    "}\n",
    "test_params_CDM = {\n",
    "    'omega_b': 2.268118e-2, \n",
    "    'omega_cdm': 0.1221163, \n",
    "    'ln10^{10}A_s': 3.048006, \n",
    "    'n_s': 0.9670508, \n",
    "    'tau_reio': 0.05659527, \n",
    "    'Omega_Lambda': 0.6772064, \n",
    "    'YHe': 0.2479716, \n",
    "    'h': 67.13298e-2\n",
    "}"
   ]
  },
  {
   "cell_type": "code",
   "execution_count": null,
   "id": "a04c849b-88b2-40ed-a840-a4a1013e1743",
   "metadata": {},
   "outputs": [],
   "source": [
    "def run_class(selection):\n",
    "    # run class on the user's selection\n",
    "    cosmo = Class()\n",
    "    cosmo.set(selection)\n",
    "    cosmo.set({'output':'mPk, tCl, pCl, lCl','P_k_max_1/Mpc':3.0, 'lensing':'yes'})\n",
    "    cosmo.compute()\n",
    "\n",
    "    # set variables for matter power spectrum and lensed CMB angular power spectra\n",
    "    kk = np.logspace(-4,np.log10(3),1000)\n",
    "    Pk = []\n",
    "    h = cosmo.h()\n",
    "    for k in kk:\n",
    "        Pk.append(cosmo.pk(k*h,0.)*h**3)\n",
    "    Pk = np.array(Pk)\n",
    "    l = np.array(range(2,2501))\n",
    "    factor = l*(l+1)/(2*np.pi)\n",
    "    lensed_cl = cosmo.lensed_cl(2500)\n",
    "    \n",
    "    results = {'k': kk, 'Pk': Pk, 'l': l, 'Cl_tt': factor*lensed_cl['tt'][2:], 'Cl_ee': factor*lensed_cl['ee'][2:]}\n",
    "    return results"
   ]
  },
  {
   "cell_type": "markdown",
   "id": "301294ea-d827-4782-b873-88119ea7e9bc",
   "metadata": {
    "tags": []
   },
   "source": [
    "### Multiprocessing\n",
    "\n",
    "Run the cells below and paste the output here, along with your system specifications.\n",
    "\n",
    "#### System: Razer Blade 14 2021\n",
    "- Processor: AMD Ryzen 9 5900HX with Radeon Graphics (3.30 GHz)\n",
    "- Installed RAM: 16.0 GB\n",
    "- On battery: \n",
    "    - **Multiprocessing: 5.2 s ± 164 ms**\n",
    "    - **Serial processing: 9.41 s ± 481 ms**\n",
    "- Plugged in: \n",
    "    - **Multiprocessing: 3.73 s ± 46.9 ms**\n",
    "    - **Serial Processing: 6.76 s ± 80.9 ms**\n",
    "\n",
    "\n",
    "#### System:\n",
    "- Processor:\n",
    "- Installed RAM: \n",
    "- On battery:\n",
    "- Plugged in: "
   ]
  },
  {
   "cell_type": "code",
   "execution_count": null,
   "id": "e7d69dce-6c45-43f0-984a-26f853e6e32e",
   "metadata": {},
   "outputs": [],
   "source": [
    "%%timeit\n",
    "# --------------------------------- Multiprocessing ---------------------------------\n",
    "if __name__ == '__main__':\n",
    "    with Pool() as p:\n",
    "        [mycosmo, LambdaCDM] = p.map(run_class, [test_params, test_params_CDM])"
   ]
  },
  {
   "cell_type": "code",
   "execution_count": null,
   "id": "832bec12-3303-4f30-8308-5dff1667a7ca",
   "metadata": {},
   "outputs": [],
   "source": [
    "%%timeit\n",
    "# -------------------------------- Serial Processing --------------------------------\n",
    "mycosmo = run_class(test_params)\n",
    "LambdaCDM = run_class(test_params_CDM)"
   ]
  },
  {
   "cell_type": "code",
   "execution_count": null,
   "id": "e20ef2d0-8b2d-4a79-8c24-ed06cae25098",
   "metadata": {},
   "outputs": [],
   "source": []
  }
 ],
 "metadata": {
  "kernelspec": {
   "display_name": "Python 3 (ipykernel)",
   "language": "python",
   "name": "python3"
  },
  "language_info": {
   "codemirror_mode": {
    "name": "ipython",
    "version": 3
   },
   "file_extension": ".py",
   "mimetype": "text/x-python",
   "name": "python",
   "nbconvert_exporter": "python",
   "pygments_lexer": "ipython3",
   "version": "3.10.9"
  }
 },
 "nbformat": 4,
 "nbformat_minor": 5
}
