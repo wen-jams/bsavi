{
 "cells": [
  {
   "cell_type": "markdown",
   "metadata": {
    "tags": []
   },
   "source": [
    "# Interactive Visualizer (InViz)\n",
    "This is the notebook where I'm currently developing the visualizer. I'm using Holoviews and Panel to construct the dashboard and implement the interactivity."
   ]
  },
  {
   "cell_type": "code",
   "execution_count": null,
   "metadata": {},
   "outputs": [],
   "source": [
    "import inviz as nv"
   ]
  },
  {
   "cell_type": "code",
   "execution_count": null,
   "metadata": {
    "pycharm": {
     "name": "#%%\n"
    }
   },
   "outputs": [],
   "source": [
    "import holoviews as hv\n",
    "from holoviews import dim, opts, streams\n",
    "from holoviews.selection import link_selections\n",
    "# import hvplot.pandas\n",
    "import pandas as pd\n",
    "from itertools import combinations\n",
    "import numpy as np\n",
    "from tqdm import trange, tqdm\n",
    "import re\n",
    "import panel as pn\n",
    "import spatialpandas\n",
    "import os\n",
    "from bokeh.models import HoverTool\n",
    "from classy import Class\n",
    "import matplotlib.pyplot as plt\n",
    "import copy\n",
    "from multiprocessing import Pool\n",
    "from typing import Callable\n",
    "\n",
    "# pn.extension(loading_spinner='dots', loading_color='#00aa41', sizing_mode=\"stretch_width\")\n",
    "\n",
    "# hv.Store.set_current_backend('bokeh')\n",
    "# pn.extension('tabulator')\n",
    "hv.extension('bokeh')\n",
    "pn.extension()\n"
   ]
  },
  {
   "cell_type": "markdown",
   "metadata": {
    "tags": []
   },
   "source": [
    "## Function & Class Definitions"
   ]
  },
  {
   "cell_type": "code",
   "execution_count": null,
   "metadata": {
    "pycharm": {
     "name": "#%%\n"
    },
    "tags": []
   },
   "outputs": [],
   "source": [
    "# read in the .paramnames file and put it into list format\n",
    "def load_params(filename):\n",
    "    params_list = []\n",
    "    with open(filename, 'r') as f:\n",
    "        for line in f:\n",
    "            line = line.strip()\n",
    "            params = re.split(' \\t ', line)\n",
    "            params_list.append(params)\n",
    "    return [item[0] for item in params_list], [item[1] for item in params_list]\n",
    "\n",
    "\n",
    "# create a DataFrame with the chain files as rows and use a list of parameters as the column names\n",
    "def load_data(filename, column_names):\n",
    "    data = np.loadtxt(filename)\n",
    "    df = pd.DataFrame(data[:,1:], columns=column_names)\n",
    "    return df\n",
    "\n",
    "\n",
    "def run_class(selection):\n",
    "    # run class on the user's selection\n",
    "    cosmo = Class()\n",
    "    cosmo.set(selection)\n",
    "    cosmo.set({'output':'mPk, tCl, pCl, lCl','P_k_max_1/Mpc':3.0, 'lensing':'yes'})\n",
    "    cosmo.compute()\n",
    "\n",
    "    # set variables for matter power spectrum and lensed CMB angular power spectra\n",
    "    kk = np.logspace(-4,np.log10(3),1000)\n",
    "    Pk = []\n",
    "    h = cosmo.h()\n",
    "    for k in kk:\n",
    "        Pk.append(cosmo.pk(k*h,0.)*h**3)\n",
    "    Pk = np.array(Pk)\n",
    "    l = np.array(range(2,2501))\n",
    "    factor = l*(l+1)/(2*np.pi)\n",
    "    lensed_cl = cosmo.lensed_cl(2500)\n",
    "    \n",
    "    results = {'k': kk, 'Pk': Pk, 'l': l, 'Cl_tt': factor*lensed_cl['tt'][2:], 'Cl_ee': factor*lensed_cl['ee'][2:]}\n",
    "    \n",
    "    cosmo.struct_cleanup()\n",
    "    cosmo.empty()\n",
    "    return results\n",
    "\n",
    "\n",
    "def compute_residuals(index, sample, sample_CDM):\n",
    "    selection = sample.iloc[[index]].to_dict('index')\n",
    "    selection_CDM = sample_CDM.iloc[[index]].to_dict('index')\n",
    "    if __name__ == '__main__':\n",
    "        with Pool() as p:\n",
    "            [mycosmo, LambdaCDM] = p.map(run_class, [selection[index], selection_CDM[index]])\n",
    "    else:\n",
    "        mycosmo = run_class(selection[index])\n",
    "        LambdaCDM = run_class(selection_CDM[index])\n",
    "\n",
    "    pk_residuals = (mycosmo['Pk'] - LambdaCDM['Pk'])/LambdaCDM['Pk']*100\n",
    "    cl_tt_residuals = (mycosmo['Cl_tt'] - LambdaCDM['Cl_tt'])/LambdaCDM['Cl_tt']*100\n",
    "    cl_ee_residuals = (mycosmo['Cl_ee'] - LambdaCDM['Cl_ee'])/LambdaCDM['Cl_ee']*100\n",
    "    \n",
    "    residuals = [\n",
    "        {'k': mycosmo['k'], 'pk_residuals': pk_residuals}, \n",
    "        {'l': mycosmo['l'], 'cl_tt_residuals': cl_tt_residuals}, \n",
    "        {'l': mycosmo['l'], 'cl_ee_residuals': cl_ee_residuals},\n",
    "    ]\n",
    "    return residuals"
   ]
  },
  {
   "cell_type": "code",
   "execution_count": null,
   "metadata": {
    "pycharm": {
     "name": "#%%\n"
    },
    "tags": []
   },
   "outputs": [],
   "source": [
    "#  given a param name, find corresponding latex-formatted param name\n",
    "def lookup_latex_label(param, latex_dict):\n",
    "    try:\n",
    "        latex_param = latex_dict[param]\n",
    "        label = r'$${}$$'.format(latex_param)\n",
    "        return label\n",
    "    except KeyError:\n",
    "        label = param\n",
    "        return label\n",
    "\n",
    "\n",
    "def viz(\n",
    "    data, \n",
    "    observables: list = None, \n",
    "    show_observables: bool = True, \n",
    "    latex_dict: dict = None\n",
    "):\n",
    "    # handle default case of no latex paramname dictionary\n",
    "    if latex_dict is None:\n",
    "        latex_dict = dict()\n",
    "    # setting Panel widgets for user interaction\n",
    "    variables = data.columns.values.tolist()\n",
    "    var1 = pn.widgets.Select(value=variables[1], name='Horizontal Axis', options=variables)\n",
    "    var2 = pn.widgets.Select(value=variables[2], name='Vertical Axis', options=variables)\n",
    "    cmap_var = pn.widgets.Select(value=variables[0], name='Colormapped Parameter', options=variables)\n",
    "    cmap_option = pn.widgets.Checkbox(value=True, name='Show Colormap', align='end')\n",
    "\n",
    "    # function for generating the scatter plot, given 2 dimensions as x and y axes, and an additional dimension to colormap\n",
    "    # to the points on the plot. Also has an option to show or hide the colormap\n",
    "    def plot_data(kdim1, kdim2, colordim, showcmap):\n",
    "        if showcmap == True:\n",
    "            cmapping = opts.Points(color=dim(colordim),\n",
    "                colorbar=True,\n",
    "                cmap='GnBu_r')\n",
    "        else:\n",
    "            cmapping = opts.Points(color='grey', colorbar=True)\n",
    "        hover = HoverTool(tooltips=None)\n",
    "        xlabel = lookup_latex_label(kdim1, latex_dict)\n",
    "        ylabel = lookup_latex_label(kdim2, latex_dict)\n",
    "        popts = opts.Points(\n",
    "            bgcolor='#E5E9F0',\n",
    "            fontscale=1.1,\n",
    "            xlabel=xlabel,\n",
    "            ylabel=ylabel,\n",
    "            toolbar='above',\n",
    "            line_color='black',\n",
    "            #alpha=0.75, selection_alpha=1, nonselection_alpha=0.1,\n",
    "            tools=[hover, 'box_select','lasso_select','tap'],\n",
    "            size=7)\n",
    "        points = hv.Points(data, kdims=[kdim1, kdim2]).opts(popts, cmapping)\n",
    "        return points\n",
    "    \n",
    "    # bind the widget values to the plotting function so it gets called every time the user interacts with the widget\n",
    "    # call the bound plotting function inside a holoview DynamicMap object for interaction\n",
    "    interactive_points = pn.bind(plot_data, kdim1=var1, kdim2=var2, colordim=cmap_var, showcmap=cmap_option)\n",
    "    points_dmap = hv.DynamicMap(interactive_points, kdims=[]).opts(width=500, height=400, framewise=True)\n",
    "    \n",
    "    # define a stream to get a list of all the points the user has selected on the plot\n",
    "    selection = streams.Selection1D(source=points_dmap)\n",
    "    \n",
    "    # formatting the table using plot hooks\n",
    "    def hook(plot, element):\n",
    "        plot.handles['table'].autosize_mode = \"none\"\n",
    "        for column in plot.handles['table'].columns:\n",
    "            column.width = 100\n",
    "    \n",
    "    # function to generate a table of all the selected points\n",
    "    def make_table(kdim1, kdim2, colordim):\n",
    "        table_options = opts.Table(height=300, width=1000, hooks=[hook], bgcolor='#f5f5f5')\n",
    "        table = hv.DynamicMap(lambda index: hv.Table(data.iloc[index], kdims=[kdim1, kdim2, colordim]), streams=[selection])\n",
    "        return table.opts(table_options).relabel('Selected Points')\n",
    "    \n",
    "    \n",
    "    # generate the table\n",
    "    selected_table = pn.bind(make_table, kdim1=var1, kdim2=var2, colordim=cmap_var)\n",
    "    \n",
    "    #table_stream = streams.Selection1D(source=selected_table)\n",
    "    \n",
    "    # handles the null selection case and multiple selections\n",
    "    plots = {}\n",
    "    # get total number of plots to draw from list of observables\n",
    "    plotting_info = {}\n",
    "    for each in observables:\n",
    "        for i in range(len(each.name)):\n",
    "            if each.plot_opts is None:\n",
    "                specific_opts = None\n",
    "            elif each.plot_opts[i] is not None:\n",
    "                specific_opts = each.plot_opts[i]\n",
    "            plotting_info[each.name[i]] = {'type': each.plot_type[i], 'opts': specific_opts}\n",
    "    def plot_observables(index):\n",
    "        if not index:\n",
    "            plots_list = []\n",
    "            for name in plotting_info:\n",
    "                hv_type = getattr(hv, plotting_info[name]['type'])\n",
    "                empty_plot = hv_type(np.random.rand(0, 2)).relabel(f'{name} - No Selection').opts(height=400, width=500, fontscale=1.1, framewise=True)\n",
    "                if plotting_info[name]['opts'] is not None:\n",
    "                    empty_plot.opts(plotting_info[name]['opts'])\n",
    "                plots_list.append([empty_plot])\n",
    "        else:\n",
    "            new_index = [x for x in index if x not in list(plots.keys())]\n",
    "            for element in new_index:\n",
    "                new_plots = []\n",
    "                for each in observables:\n",
    "                    new_plots.extend(each.generate_plot(element))\n",
    "                plots[element] = {plot.label: plot for plot in new_plots}\n",
    "            \n",
    "            plots_list = []\n",
    "            for index_item in index:\n",
    "                plot_types = list(plots[index_item].keys())\n",
    "\n",
    "            for plot_item in plot_types:\n",
    "                same_type = [plots[key][plot_item] for key in index]\n",
    "                plots_list.append(same_type)\n",
    "            \n",
    "        layout = hv.Layout()\n",
    "        for list_of_plots in plots_list:\n",
    "            overlay = hv.Overlay(list_of_plots).opts(show_legend=False)\n",
    "            layout = layout + overlay\n",
    "        layout.opts(shared_axes=False).cols(3)\n",
    "        return layout\n",
    "    \n",
    "    \n",
    "    # put it all together using Panel\n",
    "    dashboard = pn.Column(pn.Row(var1, var2, cmap_var, cmap_option), pn.Row(points_dmap, selected_table))\n",
    "    \n",
    "    if show_observables == True:\n",
    "        observables_dmap = hv.DynamicMap(plot_observables, streams=[selection]).opts(framewise=True)\n",
    "        observables_pane = pn.panel(observables_dmap)\n",
    "        dashboard = pn.Column(dashboard, observables_pane)\n",
    "    \n",
    "    return dashboard"
   ]
  },
  {
   "cell_type": "code",
   "execution_count": null,
   "metadata": {},
   "outputs": [],
   "source": [
    "class Observable:\n",
    "    \"\"\"\n",
    "    Observable class for InViz.\n",
    "    \n",
    "    Parameters\n",
    "    ----------\n",
    "    name: string or list of strings\n",
    "        specifies the display name of the observable for things like plot titles\n",
    "    parameters: dict-like or list of dict-likes\n",
    "        the data to associated with that observable. can be python dict (or pandas DataFrame)\n",
    "        whose keys (or column names) will be used for things like plot axis labels. \n",
    "    latex_labels: dict or list of dicts\n",
    "        key: value -> parameter label: latex version. parameter label must match the\n",
    "        corresponding one in the parameters dict\n",
    "    myfunc: callable\n",
    "        a user-provided function that returns parameters. can return more than one\n",
    "        set of parameters if the \"grouped\" option is True\n",
    "    myfunc_args: tuple\n",
    "        arguments for user-provided function\n",
    "    grouped: boolean\n",
    "        specifies if user-provided function returns more than one set of parameters\n",
    "    plot_type: string\n",
    "        specifies how the data should be visualized. currently can pick either 'Curve'\n",
    "        or 'Scatter'\n",
    "    plot_opts: holoviews Options object\n",
    "        customization options for the observable plot. see Holoviews documentation\n",
    "    \"\"\"\n",
    "    \n",
    "    def __init__(\n",
    "        self, \n",
    "        name: str | list[str] = None, \n",
    "        parameters: dict | list[dict] = None, \n",
    "        myfunc: Callable = None,\n",
    "        myfunc_args: tuple = None, \n",
    "        grouped: bool = False, \n",
    "        plot_type: str | list[str] = None,\n",
    "        plot_opts: type[opts] | list[type[opts]] = None,\n",
    "        latex_labels: dict = None\n",
    "    ):\n",
    "        self.name = [name]\n",
    "        self.parameters = parameters\n",
    "        if parameters is not None:\n",
    "            self.parameters = [parameters]\n",
    "        self.myfunc = myfunc\n",
    "        self.myfunc_args = myfunc_args\n",
    "        self.plot_type = plot_type\n",
    "        if plot_type is not None:\n",
    "            self.plot_type = [plot_type]\n",
    "        self.plot_opts = plot_opts\n",
    "        if plot_opts is not None:\n",
    "            self.plot_opts = [plot_opts]\n",
    "        self.grouped = grouped\n",
    "        self.latex_labels = latex_labels\n",
    "        if self.grouped:\n",
    "            self.name = name\n",
    "            self.parameters = parameters\n",
    "            self.plot_type = plot_type\n",
    "            self.plot_opts = plot_opts\n",
    "        self.number = len(self.name)\n",
    "    \n",
    "    def properties(self):\n",
    "        if self.grouped:\n",
    "            print(\"InViz Grouped Observable\")\n",
    "            for i in range(len(self.name)):\n",
    "                print(f\"\\t- Observable {i+1}: {self.name[i]}\")\n",
    "        else:\n",
    "            print(\"InViz Observable\")\n",
    "            print(f\"Name: {self.name}\")\n",
    "        \n",
    "    def generate_plot(self, index: int):\n",
    "        self.plots_list = []\n",
    "        if self.myfunc and self.myfunc_args is not None:\n",
    "            computed_data = self.myfunc(index, *self.myfunc_args)\n",
    "            self.number = len(computed_data)\n",
    "        for i in range(0, self.number):\n",
    "            hv_element = getattr(hv, self.plot_type[i])\n",
    "            if self.parameters is not None:\n",
    "                dataset = self.parameters[i]\n",
    "                kdim = list(dataset.keys())[0]\n",
    "                vdim = list(dataset.keys())[1]\n",
    "                plot = hv_element(dataset[index], kdim, vdim, label=self.name[i])\n",
    "            elif computed_data:\n",
    "                dataset = computed_data[i]\n",
    "                kdim = list(dataset.keys())[0]\n",
    "                vdim = list(dataset.keys())[1]\n",
    "                plot = hv_element(dataset, kdim, vdim, label=self.name[i])\n",
    "            # set defaults\n",
    "            plot.opts(\n",
    "                height=400,\n",
    "                width=500,\n",
    "                fontscale=1.1,\n",
    "                xlabel=lookup_latex_label(kdim, self.latex_labels), \n",
    "                ylabel=lookup_latex_label(vdim, self.latex_labels),\n",
    "                framewise=True\n",
    "            )\n",
    "            # add user defined customizations\n",
    "            if self.plot_opts and self.plot_opts[i] is not None:\n",
    "                plot.opts(self.plot_opts[i])\n",
    "            self.plots_list.append(plot)\n",
    "        return self.plots_list\n",
    "        \n",
    "    def draw_plot(self, index, observable_name=None):\n",
    "        layout = hv.Layout(self.generate_plot(index))\n",
    "        return layout.opts(shared_axes=False)\n",
    "        \n",
    "    "
   ]
  },
  {
   "cell_type": "markdown",
   "metadata": {},
   "source": [
    "## Visualizing\n",
    "Now we just need to load in our data, convert it into a format that CLASS accepts, and call `viz` to produce the dashboard."
   ]
  },
  {
   "cell_type": "code",
   "execution_count": null,
   "metadata": {
    "pycharm": {
     "name": "#%%\n"
    },
    "tags": []
   },
   "outputs": [],
   "source": [
    "# Read in data\n",
    "loglkl = ['loglkl']\n",
    "param_names, latex_params = load_params('../data/chains_planckbossdes_1MeV/2022-11-16_3200000_.paramnames')\n",
    "params_latex_form = dict(zip(param_names, latex_params))\n",
    "column_names = loglkl + param_names\n",
    "df = pd.DataFrame(columns=column_names)\n",
    "for i in trange(1,5):\n",
    "    temp = load_data('../data/chains_planckbossdes_1MeV/2022-11-16_3200000__{}.txt'.format(i), column_names=column_names)\n",
    "    df = pd.concat([df,temp]).reset_index(drop=True)"
   ]
  },
  {
   "cell_type": "code",
   "execution_count": null,
   "metadata": {},
   "outputs": [],
   "source": [
    "# prepare data for CLASS computation\n",
    "# remove nuisance parameters\n",
    "classy_input = df.drop(columns=['loglkl', 'z_reio', 'A_s', 'sigma8', '100theta_s', 'A_cib_217', 'xi_sz_cib', 'A_sz', 'ps_A_100_100', 'ps_A_143_143', 'ps_A_143_217', 'ps_A_217_217', 'ksz_norm', 'gal545_A_100', 'gal545_A_143', 'gal545_A_143_217', 'gal545_A_217', 'galf_TE_A_100', 'galf_TE_A_100_143', 'galf_TE_A_100_217', 'galf_TE_A_143', 'galf_TE_A_143_217', 'galf_TE_A_217', 'calib_100T', 'calib_217T', 'A_planck', 'b^{(1)}_1', 'b^{(1)}_2', 'b^{(1)}_{G_2}', 'b^{(2)}_1', 'b^{(2)}_2', 'b^{(2)}_{G_2}', 'b^{(3)}_1', 'b^{(3)}_2', 'b^{(3)}_{G_2}', 'b^{(4)}_1', 'b^{(4)}_2', 'b^{(4)}_{G_2}'])\n",
    "classy_input['omega_b'] = df['omega_b'] * 1e-2\n",
    "classy_input['sigma_dmeff'] = df['sigma_dmeff'] * 1e-25\n",
    "classy_input = classy_input.rename(columns={'H0':'h'})\n",
    "classy_input['h'] = classy_input['h'] * 1e-2\n",
    "classy_input['f_dmeff'] = 0.1\n",
    "classy_input['npow_dmeff'] = 0.0\n",
    "classy_input['Vrel_dmeff'] = 0.0\n",
    "classy_input['dmeff_target'] = 'baryons'\n",
    "classy_input['m_dmeff'] = 1e-3\n",
    "\n",
    "# format for CDM version\n",
    "#classy_CDM = classy_input.drop(columns=['sigma_dmeff', 'omega_cdm', 'npow_dmeff', 'Vrel_dmeff', 'dmeff_target', 'm_dmeff'])\n",
    "# classy_CDM = classy_CDM.rename(columns={'omega_dmeff':'omega_cdm'})\n",
    "classy_CDM = classy_input.drop(columns=['sigma_dmeff', 'npow_dmeff', 'Vrel_dmeff', 'dmeff_target', 'm_dmeff'])\n",
    "\n",
    "\n",
    "# slice for fast computation\n",
    "classy_input_slice = classy_input[::500].reset_index(drop=True)\n",
    "classy_CDM_slice = classy_CDM[::500].reset_index(drop=True)\n",
    "df_slice = df[::500].reset_index(drop=True)"
   ]
  },
  {
   "cell_type": "code",
   "execution_count": null,
   "metadata": {},
   "outputs": [],
   "source": [
    "interp_df = pd.read_pickle('../data/trey_uvlf/bouwens_2023_data.pkl')\n",
    "binned_df = pd.read_pickle('../data/trey_uvlf/bouwens_2023_data_binned.pkl')"
   ]
  },
  {
   "cell_type": "code",
   "execution_count": null,
   "metadata": {},
   "outputs": [],
   "source": [
    "params_df = binned_df[['alphaOutflow', 'alphaStar', 'like', 'timescale', 'velocityOutflow']]\n",
    "lumfunc_df = binned_df[['uvlf_Muv', 'uvlf_z10.5', 'uvlf_z12.6', 'uvlf_z8.7']]\n",
    "uvlf = {}\n",
    "for row in lumfunc_df.index:\n",
    "    uvlf[row] = {\n",
    "        'z = 10.5': {'uvlf_Muv': lumfunc_df['uvlf_Muv'][row], 'uvlf_z10.5': lumfunc_df['uvlf_z10.5'][row]}, \n",
    "        'z = 12.6': {'uvlf_Muv': lumfunc_df['uvlf_Muv'][row], 'uvlf_z12.6': lumfunc_df['uvlf_z12.6'][row]}, \n",
    "        'z = 8.7': {'uvlf_Muv': lumfunc_df['uvlf_Muv'][row], 'uvlf_z8.7': lumfunc_df['uvlf_z8.7'][row]}, \n",
    "    }\n",
    "reshaped_uvlf = pd.DataFrame.from_dict(uvlf, orient='index')"
   ]
  },
  {
   "cell_type": "markdown",
   "metadata": {},
   "source": [
    "### The Viz Function\n",
    "\n",
    "The viz function has three arguments:\n",
    "- __data__: (Pandas DataFrame) the data you want shown as a scatter plot\n",
    "- __myfunction__: (function) your function that computes some observables based on a data point\n",
    "- __function_args__: (tuple) the arguments of that function\n",
    "- __show_observables__: (Boolean) whether you want to see the observable plots or not \n",
    "\n",
    "Be aware that if you pass data with categorical values (i.e. strings) in the first argument, the visualizer will break. It's fine to do so for the CLASS arguments though."
   ]
  },
  {
   "cell_type": "code",
   "execution_count": null,
   "metadata": {},
   "outputs": [],
   "source": [
    "cosmo_copts = opts.Curve(width=500, height=400, logx=True, padding=0.1, fontscale=1.1, color=hv.Cycle('GnBu'), bgcolor='#22262F', framewise=True)\n",
    "cosmo_latex = {\n",
    "    'k': 'k~[h/\\mathrm{Mpc}]',\n",
    "    'pk_residuals': '(P(k)-P_{CDM}(k))/P_{CDM}(k)*100~[\\%]',\n",
    "    'l': '\\ell',\n",
    "    'cl_tt_residuals': '(C_{\\ell}^{TT}-C_{\\ell, CDM}^{TT})/C_{\\ell, CDM}^{TT}*100~[\\%]',\n",
    "    'cl_ee_residuals': '(C_{\\ell}^{EE}-C_{\\ell, CDM}^{EE})/C_{\\ell, CDM}^{EE}*100~[\\%]',\n",
    "}\n",
    "cosmo_observables = Observable(\n",
    "    name=[\n",
    "        'P(k) Residuals', \n",
    "        'Cl_TT Residuals', \n",
    "        'Cl_EE Residuals', \n",
    "    ], \n",
    "    myfunc=compute_residuals,\n",
    "    myfunc_args=(classy_input_slice, classy_CDM_slice), \n",
    "    plot_type=[\n",
    "        'Curve', \n",
    "        'Curve', \n",
    "        'Curve', \n",
    "    ],\n",
    "    plot_opts=[\n",
    "        cosmo_copts, \n",
    "        cosmo_copts, \n",
    "        cosmo_copts, \n",
    "    ],\n",
    "    latex_labels=cosmo_latex,\n",
    "    grouped=True\n",
    ")"
   ]
  },
  {
   "cell_type": "code",
   "execution_count": null,
   "metadata": {},
   "outputs": [],
   "source": [
    "viz(data=df_slice, observables=[cosmo_observables], latex_dict=params_latex_form)"
   ]
  },
  {
   "cell_type": "code",
   "execution_count": null,
   "metadata": {},
   "outputs": [],
   "source": [
    "uvlf_scatter_opts = opts.Scatter(ylim=(1e-11, None), logy=True, invert_xaxis=True, height=400, width=500, size=5, marker='square')\n",
    "uvlf_curve_opts = opts.Curve(ylim=(1e-11, None), logy=True, invert_xaxis=True, height=400, width=500)\n",
    "uvlf_observables = Observable(\n",
    "    name=[\n",
    "        'z = 10.5', \n",
    "        'z = 12.6', \n",
    "        'z = 8.7'\n",
    "    ], \n",
    "    parameters=[\n",
    "        (lumfunc_df['uvlf_Muv'], lumfunc_df['uvlf_z10.5']), \n",
    "        (lumfunc_df['uvlf_Muv'], lumfunc_df['uvlf_z12.6']), \n",
    "        (lumfunc_df['uvlf_Muv'], lumfunc_df['uvlf_z8.7'])\n",
    "    ],\n",
    "    parameter_labels=[\n",
    "        (r'$$\\text{UV Magnitude}$$', r'$$\\text{Luminosity Function}$$'), \n",
    "        (r'$$\\text{UV Magnitude}$$', r'$$\\text{Luminosity Function}$$'), \n",
    "        (r'$$\\text{UV Magnitude}$$', r'$$\\text{Luminosity Function}$$')\n",
    "    ], \n",
    "    plot_type=[\n",
    "        'Curve', \n",
    "        'Curve', \n",
    "        'Curve', \n",
    "    ],\n",
    "    plot_opts=[\n",
    "        uvlf_curve_opts, \n",
    "        uvlf_curve_opts, \n",
    "        uvlf_curve_opts, \n",
    "    ],\n",
    "    grouped=True\n",
    ")"
   ]
  },
  {
   "cell_type": "code",
   "execution_count": null,
   "metadata": {},
   "outputs": [],
   "source": [
    "z10_5 = Observable(\n",
    "    name='z = 10.5', \n",
    "    parameters=(lumfunc_df['uvlf_Muv'], lumfunc_df['uvlf_z10.5']), \n",
    "    parameter_labels=(r'$$\\text{UV Magnitude}$$', r'$$\\text{Luminosity Function}$$'),\n",
    "    plot_type='Curve',\n",
    "    plot_opts=uvlf_curve_opts\n",
    ")"
   ]
  },
  {
   "cell_type": "code",
   "execution_count": null,
   "metadata": {},
   "outputs": [],
   "source": [
    "viz(data=params_df, observables=[z10_5])"
   ]
  },
  {
   "cell_type": "markdown",
   "metadata": {
    "tags": []
   },
   "source": [
    "## WIP\n",
    "The below cells are being used to further develop the visualizer."
   ]
  },
  {
   "cell_type": "code",
   "execution_count": null,
   "metadata": {},
   "outputs": [],
   "source": [
    "test_params = {'omega_b': 2.268118e-2, \n",
    "               'omega_dmeff': 0.1221163, \n",
    "               'ln10^{10}A_s': 3.048006, \n",
    "               'n_s': 0.9670508, \n",
    "               'tau_reio': 0.05659527, \n",
    "               'sigma_dmeff': 1.193e-25, \n",
    "               'Omega_Lambda': 0.6772064, \n",
    "               'YHe': 0.2479716, \n",
    "               'h': 67.13298e-2,  \n",
    "               'omega_cdm': 1e-15, \n",
    "               'npow_dmeff': 0, \n",
    "               'Vrel_dmeff': 0, \n",
    "               'dmeff_target': 'baryons', \n",
    "               'm_dmeff': 0.001}\n",
    "test_params_CDM = {'omega_b': 2.268118e-2, \n",
    "                   'omega_cdm': 0.1221163, \n",
    "                   'ln10^{10}A_s': 3.048006, \n",
    "                   'n_s': 0.9670508, \n",
    "                   'tau_reio': 0.05659527, \n",
    "                   'Omega_Lambda': 0.6772064, \n",
    "                   'YHe': 0.2479716, \n",
    "                   'h': 67.13298e-2}"
   ]
  },
  {
   "cell_type": "code",
   "execution_count": null,
   "metadata": {},
   "outputs": [],
   "source": [
    "args = (classy_input_slice, classy_CDM_slice)\n",
    "resids19 = compute_residuals(19, *args)\n",
    "resids20 = compute_residuals(20, *args)\n",
    "resids21 = compute_residuals(21, *args)\n",
    "\n",
    "resids = {19: resids19, 20: resids20, 21: resids21}"
   ]
  },
  {
   "cell_type": "code",
   "execution_count": null,
   "metadata": {},
   "outputs": [],
   "source": [
    "resids_df = pd.DataFrame.from_dict(resids, orient='index')\n",
    "resids_df"
   ]
  },
  {
   "cell_type": "code",
   "execution_count": null,
   "metadata": {},
   "outputs": [],
   "source": [
    "reshaped_uvlf"
   ]
  },
  {
   "cell_type": "code",
   "execution_count": null,
   "metadata": {
    "jupyter": {
     "source_hidden": true
    },
    "tags": []
   },
   "outputs": [],
   "source": [
    "data = df_slice\n",
    "popts = opts.Points(\n",
    "    toolbar='above',\n",
    "    line_color='black',\n",
    "    #alpha=0.5, selection_alpha=1, nonselection_alpha=0.1,\n",
    "    tools=['box_select','lasso_select','tap'],\n",
    "    size=7)\n",
    "numerical_points = hv.Points(data, kdims=['omega_b', 'omega_cdm']).opts(popts)\n",
    "selection = streams.Selection1D(source=numerical_points)\n",
    "\n",
    "selections = []\n",
    "def record_selections(index):\n",
    "    new_index = [x for x in index if x not in list(set(selections))]\n",
    "    prev_index = [x for x in index if x not in new_index]\n",
    "    new = hv.Points(df_slice.iloc[new_index], kdims=['omega_b', 'omega_cdm']).relabel('new')\n",
    "    old = hv.Points(df_slice.iloc[prev_index], kdims=['omega_b', 'omega_cdm']).relabel('old')\n",
    "    if None not in index:\n",
    "        selections.extend(index)\n",
    "    return new * old\n",
    "\n",
    "def show_prev_selections(index):\n",
    "    if not index:\n",
    "        return hv.Points(df_slice.iloc[index], kdims=['omega_b', 'omega_cdm']).relabel('no selection')\n",
    "\n",
    "    new_index = [x for x in index if x not in list(set(selections))]\n",
    "    prev_index = [x for x in index if x not in new_index]\n",
    "    # old_index = prev_index + [x for x in list(set(selections)) if x not in prev_index]\n",
    "    return hv.Points(df_slice.iloc[prev_index], kdims=['omega_b', 'omega_cdm']).relabel('previous')\n",
    "\n",
    "def show_selection_record(index):  \n",
    "    new_index = [x for x in index if x not in list(set(selections))]\n",
    "    prev_index = [x for x in index if x not in new_index]\n",
    "    old_index = prev_index + [x for x in list(set(selections)) if x not in prev_index]\n",
    "    return hv.Points(df_slice.iloc[old_index], kdims=['omega_b', 'omega_cdm']).relabel('old')\n",
    "\n",
    "\n",
    "responsive_dmap = hv.DynamicMap(record_selections, streams=[selection]).opts(popts)\n",
    "prev_dmap = hv.DynamicMap(show_prev_selections, streams=[selection]).opts(popts)\n",
    "old_dmap = hv.DynamicMap(show_selection_record, streams=[selection]).opts(popts)\n",
    "\n",
    "numerical_points + responsive_dmap + old_dmap"
   ]
  },
  {
   "cell_type": "code",
   "execution_count": null,
   "metadata": {},
   "outputs": [],
   "source": [
    "index = selection.contents['index']\n",
    "new_index = [x for x in index if x in list(set(selections))]\n",
    "prev_index = [x for x in index if x not in new_index]\n",
    "old_index = prev_index + [x for x in list(set(selections)) if x not in prev_index]\n",
    "print(f'new index: \\n{new_index} \\nprevious index: \\n{prev_index} \\nold index: \\n{old_index}')"
   ]
  },
  {
   "cell_type": "code",
   "execution_count": null,
   "metadata": {},
   "outputs": [],
   "source": [
    "from holoviews.operation import decimate\n",
    "decimate.max_samples=2000\n",
    "points = hv.Points(df, kdims=['omega_b', 'omega_cdm']).opts(width=500, height=400)\n",
    "decimate(points)"
   ]
  },
  {
   "cell_type": "code",
   "execution_count": null,
   "metadata": {},
   "outputs": [],
   "source": [
    "decimate(points) + hv.Points(df_slice, kdims=['omega_b', 'omega_cdm']).opts(width=500, height=400)"
   ]
  },
  {
   "cell_type": "code",
   "execution_count": null,
   "metadata": {},
   "outputs": [],
   "source": [
    "def format_list(l):\n",
    "    print(' '.join(sorted([k for k in l if not k.endswith('_r')])))\n",
    "format_list(hv.Cycle.default_cycles.keys())\n",
    "format_list(hv.Palette.colormaps.keys())"
   ]
  },
  {
   "cell_type": "code",
   "execution_count": null,
   "metadata": {
    "jupyter": {
     "source_hidden": true
    },
    "tags": []
   },
   "outputs": [],
   "source": [
    "def plot_scatter_table(data, params, plots):\n",
    "    # kwargs:\n",
    "    # data: a pandas DataFrame\n",
    "    # params: list of parameters that correspond to column names in the DataFrame\n",
    "    # plots: the number of plots to display\n",
    "    \n",
    "    # generate a list of all pairs of the parameters\n",
    "    pairs = [list(comb) for comb in combinations(params, 2)]\n",
    "    \n",
    "    # create linked selections\n",
    "    ls = link_selections.instance()\n",
    "    \n",
    "    layout = hv.Layout()\n",
    "    \n",
    "    for param_a, param_b in pairs[:plots]:\n",
    "        # vdims = [e for e in params if e not in (param_a, param_b)]\n",
    "        # ^^^ uncomment the above and add \", vdims\" to the argument of hv.Dataset if desired\n",
    "        ds = hv.Dataset(data, [param_a, param_b])\n",
    "        pts = hv.Points(ds).opts(\n",
    "            opts.Points(color='black', size=2))\n",
    "        bivar = hv.Bivariate(data[[param_a,param_b]].values, [param_a,param_b], []).opts(\n",
    "            opts.Bivariate(bandwidth=0.5,\n",
    "                           cut=0,cmap=\"blues\",\n",
    "                           levels=5,\n",
    "                           colorbar=False,\n",
    "                           show_legend=False,\n",
    "                           filled=True,\n",
    "                           toolbar='above',\n",
    "                           width=350,\n",
    "                           alpha=0.75))\n",
    "        layout += (ls(pts)*bivar).opts(width=300, height=300)\n",
    "    \n",
    "    layout = layout.cols(4)\n",
    "    \n",
    "    table = pn.widgets.Tabulator(data[params], disabled=True)\n",
    "    selection = pn.widgets.Tabulator(disabled=True)\n",
    "    try:\n",
    "        table.selection = ls.selection_expr\n",
    "    except ValueError:\n",
    "        table.selection = []\n",
    "    \n",
    "    button_show_selection = pn.widgets.Button(name='Show selected rows only', button_type='primary', width_policy='auto')\n",
    "    button_download_selection = pn.widgets.Button(name='Download selections as CSV', button_type='primary', width_policy='auto')\n",
    "    button_reset = pn.widgets.Button(name='Reset', width_policy='auto')\n",
    "    \n",
    "    def show_selection(event):\n",
    "        selection.value = table.selected_dataframe.sort_index()\n",
    "    \n",
    "    def download_selection(event):\n",
    "        os.makedirs('data/selections', exist_ok=True)\n",
    "        selection_df_sorted = table.selected_dataframe.sort_index()\n",
    "        selection_df_sorted.to_csv('data/selections/selected_output.csv', index=False)\n",
    "\n",
    "    def reset(event):\n",
    "        table.selection = []\n",
    "        selection.value = table.selected_dataframe\n",
    "\n",
    "    button_show_selection.on_click(show_selection)\n",
    "    button_download_selection.on_click(download_selection)\n",
    "    button_reset.on_click(reset)\n",
    "    dashboard = pn.Row(table, pn.Column(pn.Row(button_show_selection, button_download_selection, button_reset), selection))\n",
    "    params = pn.Param(ls, parameters=['selection_mode'])\n",
    "    scatter_table = pn.Column(params, pn.Row(layout), dashboard)\n",
    "    return scatter_table"
   ]
  },
  {
   "cell_type": "code",
   "execution_count": null,
   "metadata": {
    "tags": []
   },
   "outputs": [],
   "source": [
    "params = ['omega_b', 'omega_dmeff', 'n_s', 'tau_reio', 'sigma_dmeff', 'H0', 'A_s', 'sigma8']\n",
    "viz = plot_scatter_table(new_df, params, plots=4)\n",
    "viz"
   ]
  },
  {
   "cell_type": "code",
   "execution_count": null,
   "metadata": {
    "tags": []
   },
   "outputs": [],
   "source": [
    "menu_items = list(ds.data)\n",
    "menu_button = pn.widgets.MenuButton(name='Parameter', items=menu_items, button_type='primary')\n",
    "text = pn.widgets.TextInput(value='Ready')\n",
    "\n",
    "def b(event):\n",
    "    text.value = f'Clicked menu item: \"{event.new}\"'\n",
    "    \n",
    "menu_button.on_click(b)\n",
    "\n",
    "pn.Row(menu_button, text, height=300)"
   ]
  },
  {
   "cell_type": "code",
   "execution_count": null,
   "metadata": {
    "tags": []
   },
   "outputs": [],
   "source": [
    "ds = hv.Dataset(new_df, ['omega_b', 'sigma_dmeff'])\n",
    "vdims = ['omega_b', 'omega_dmeff', 'ln10^{10}A_s', 'n_s', 'tau_reio', 'sigma_dmeff', 'Omega_Lambda', 'H0']\n",
    "layout = hv.Layout()\n",
    "for vdim in vdims:\n",
    "    if vdim != ds.kdims[0].name and vdim != ds.kdims[1].name:\n",
    "        pts = hv.Points(ds).opts(color=dim(vdim),\n",
    "            colorbar=True,\n",
    "            cmap='Magma',\n",
    "            alpha=0.5, selection_alpha=1, nonselection_alpha=0.1,\n",
    "            tools=['box_select','lasso_select','tap'],\n",
    "            size=5,\n",
    "            width=350,\n",
    "            height=250).relabel(vdim)\n",
    "        layout += pts\n",
    "\n",
    "layout.opts(shared_axes=False).cols(3)"
   ]
  },
  {
   "cell_type": "code",
   "execution_count": null,
   "metadata": {
    "jupyter": {
     "source_hidden": true
    },
    "tags": []
   },
   "outputs": [],
   "source": [
    "def plot_data(kdim1, kdim2, colordim, showcmap):  \n",
    "    popts = opts.Points(\n",
    "        toolbar='above',\n",
    "        line_color='black',\n",
    "        #alpha=0.5, selection_alpha=1, nonselection_alpha=0.1,\n",
    "        tools=['box_select','lasso_select','tap'],\n",
    "        size=7)\n",
    "    \n",
    "    if classy_input_slice[colordim].dtype == object:\n",
    "        if showcmap == False:\n",
    "            cmapping = opts.Points(color='grey')\n",
    "        cmapping = opts.Points(color=dim(colordim), cmap='Category20')\n",
    "        categorical_points = hv.Points(classy_input_slice, kdims=[kdim1, kdim2]).opts(popts, cmapping)\n",
    "        return categorical_points\n",
    "    else:\n",
    "        if showcmap == False:\n",
    "            cmapping = opts.Points(color='grey')\n",
    "        cmapping = opts.Points(color=dim(colordim), cmap='Viridis', colorbar=True)\n",
    "        numerical_points = hv.Points(classy_input_slice, kdims=[kdim1, kdim2]).opts(popts, cmapping)\n",
    "        return numerical_points\n",
    "        \n",
    "\n",
    "def plot_dist(kdim1):\n",
    "    dist = hv.Distribution(new_df, kdim1).opts(\n",
    "        alpha=1,\n",
    "        color='blue')\n",
    "    return dist\n",
    "\n",
    "def plot_bivar(kdim1, kdim2):\n",
    "    bivar = hv.Bivariate(classy_input_slice, kdims=[kdim1, kdim2]).opts(\n",
    "        cmap='blues',\n",
    "        bandwidth=1,\n",
    "        cut=0,\n",
    "        levels=5,\n",
    "        filled=True)\n",
    "    return bivar\n",
    "\n",
    "def choose_dist(kdim1, kdim2):\n",
    "    if kdim1 == kdim2:\n",
    "        return hv.DynamicMap(plot_dist, kdim1=kdim1).opts(width=500, height=400, framewise=True)\n",
    "    else:\n",
    "        return hv.DynamicMap(plot_bivar, kdim1=kdim1, kdim2=kdim2).opts(width=500, height=400, framewise=True)"
   ]
  },
  {
   "cell_type": "code",
   "execution_count": null,
   "metadata": {},
   "outputs": [],
   "source": [
    "variables = classy_input_slice.columns.values.tolist()\n",
    "var1 = pn.widgets.Select(value=variables[0], name='Horizontal Axis', options=variables)\n",
    "var2 = pn.widgets.Select(value=variables[1], name='Vertical Axis', options=variables)\n",
    "cmap_var = pn.widgets.Select(value='omega_b', name='Colormapped Parameter', options=variables)\n",
    "cmap_option = pn.widgets.Checkbox(value=False, name='Show Colormap', align='end')"
   ]
  },
  {
   "cell_type": "code",
   "execution_count": null,
   "metadata": {},
   "outputs": [],
   "source": [
    "interactive_points = pn.bind(plot_data, kdim1=var1, kdim2=var2, colordim=cmap_var, showcmap=cmap_option)\n",
    "interactive_dist = pn.bind(choose_dist, kdim1=var1, kdim2=var2)\n",
    "dmap_points = hv.DynamicMap(interactive_points).opts(width=500, height=400, framewise=True)\n",
    "#dmap_dist = hv.DynamicMap(interactive_dist).opts(width=500, height=400, framewise=True)\n",
    "app = pn.Column(pn.Row(var1, var2, cmap_var, cmap_option, width = 700), dmap_points)\n",
    "app"
   ]
  },
  {
   "cell_type": "code",
   "execution_count": null,
   "metadata": {},
   "outputs": [],
   "source": [
    "choose_dist('omega_b','omega_cdm')"
   ]
  },
  {
   "cell_type": "code",
   "execution_count": null,
   "metadata": {},
   "outputs": [],
   "source": [
    "table = hv.Table(new_df, kdims=['omega_b', 'omega_dmeff', 'sigma_dmeff'])\n",
    "table_sel = streams.Selection1D(source=table)"
   ]
  },
  {
   "cell_type": "code",
   "execution_count": null,
   "metadata": {
    "tags": []
   },
   "outputs": [],
   "source": [
    "table_sel.contents"
   ]
  },
  {
   "cell_type": "code",
   "execution_count": null,
   "metadata": {
    "tags": []
   },
   "outputs": [],
   "source": [
    "# Set up the parameters of the problem.\n",
    "ndim, nsamples = 3, 1000\n",
    "\n",
    "# Generate some fake data.\n",
    "np.random.seed(42)\n",
    "data1 = np.random.randn(ndim * 4 * nsamples // 5).reshape(\n",
    "    [4 * nsamples // 5, ndim]\n",
    ")\n",
    "data2 = 4 * np.random.rand(ndim)[None, :] + np.random.randn(\n",
    "    ndim * nsamples // 5\n",
    ").reshape([nsamples // 5, ndim])\n",
    "data = np.vstack([data1, data2])"
   ]
  },
  {
   "cell_type": "code",
   "execution_count": null,
   "metadata": {},
   "outputs": [],
   "source": [
    "param_names = ['frequency', 'phase', 'amplitude']\n",
    "latex = ['\\omega / 2\\pi', '\\phi', '\\mathrm{amplitude}']\n",
    "wavedf = pd.DataFrame(data, columns=param_names)\n",
    "latex_dict = dict(zip(param_names, latex))"
   ]
  },
  {
   "cell_type": "code",
   "execution_count": null,
   "metadata": {},
   "outputs": [],
   "source": [
    "from scipy import signal\n",
    "\n",
    "def compute_waveforms(index, input_data):\n",
    "    selection = input_data.iloc[[index]]\n",
    "    x = np.linspace(-4*np.pi, 4*np.pi, 1000)\n",
    "    angular_freq = 2*np.pi*selection['frequency'].iloc[0]\n",
    "    phase = selection['phase'].iloc[0]\n",
    "    amp = selection['amplitude'].iloc[0]\n",
    "    sin = amp * np.sin(angular_freq*x + phase)\n",
    "    sinc = amp * np.sinc(angular_freq*x/np.pi + phase)\n",
    "    sawtooth = amp * signal.sawtooth(angular_freq * x + phase)\n",
    "    waves = [\n",
    "        {'x': x, 'sin(x)': sin}, \n",
    "        {'x': x, 'sinc(x)': sinc}, \n",
    "        {'x': x, 'sawtooth': sawtooth}\n",
    "    ]\n",
    "    return waves"
   ]
  },
  {
   "cell_type": "code",
   "execution_count": null,
   "metadata": {},
   "outputs": [],
   "source": [
    "opts1 = opts.Curve(xlim=(-4*np.pi, 4*np.pi), color=hv.Cycle('YlOrRd'), bgcolor='#151515')\n",
    "opts2 = opts.Curve(xlim=(-4*np.pi, 4*np.pi), color=hv.Cycle('PuBuGn'), bgcolor='#151515')\n",
    "opts3 = opts.Curve(xlim=(-4*np.pi, 4*np.pi), color=hv.Cycle('RdPu'), bgcolor='#f5f5f5')\n",
    "waves_latex = {\n",
    "    'x': 'x', \n",
    "    'sin(x)': '\\sin{x}',\n",
    "    'sinc(x)': '1/\\sin{x}',\n",
    "    'sawtooth': '\\mathrm{Sawtooth~Wave}',\n",
    "}"
   ]
  },
  {
   "cell_type": "code",
   "execution_count": null,
   "metadata": {},
   "outputs": [],
   "source": [
    "waveforms = Observable(\n",
    "    name=[\n",
    "        'Sine',\n",
    "        'Sinc',\n",
    "        'Sawtooth'\n",
    "    ],\n",
    "    myfunc=compute_waveforms,\n",
    "    myfunc_args=(wavedf,),\n",
    "    grouped=True,\n",
    "    plot_type=[\n",
    "        'Curve',\n",
    "        'Curve',\n",
    "        'Curve',\n",
    "    ],\n",
    "    plot_opts=[\n",
    "        opts1,\n",
    "        opts2,\n",
    "        opts3\n",
    "    ],\n",
    "    latex_labels=waves_latex\n",
    ")"
   ]
  },
  {
   "cell_type": "code",
   "execution_count": null,
   "metadata": {},
   "outputs": [],
   "source": [
    "def cosine(index, input_data):\n",
    "    selection = input_data.iloc[[index]]\n",
    "    x = np.linspace(-4*np.pi, 4*np.pi, 1000)\n",
    "    angular_freq = 2*np.pi*selection['frequency'].iloc[0]\n",
    "    phase = selection['phase'].iloc[0]\n",
    "    amp = selection['amplitude'].iloc[0]\n",
    "    cos = amp * np.cos(angular_freq*x + phase)\n",
    "    waves = [\n",
    "        {'x': x, 'cos(x)': cos}\n",
    "    ]\n",
    "    return waves\n",
    "\n",
    "cosine_latex = {'x': 'x', 'cos(x)': '\\cos{x}'}\n",
    "\n",
    "coswav = Observable(\n",
    "    name='Cosine',\n",
    "    myfunc=cosine,\n",
    "    myfunc_args=(wavedf,),\n",
    "    plot_type='Curve',\n",
    "    plot_opts=opts3,\n",
    "    latex_labels=cosine_latex\n",
    ")"
   ]
  },
  {
   "cell_type": "code",
   "execution_count": null,
   "metadata": {},
   "outputs": [],
   "source": [
    "waveforms.parameters"
   ]
  },
  {
   "cell_type": "code",
   "execution_count": null,
   "metadata": {},
   "outputs": [],
   "source": [
    "coswav.parameters"
   ]
  },
  {
   "cell_type": "code",
   "execution_count": null,
   "metadata": {},
   "outputs": [],
   "source": [
    "viz(wavedf, [waveforms, coswav], latex_dict=latex_dict)"
   ]
  },
  {
   "cell_type": "code",
   "execution_count": null,
   "metadata": {},
   "outputs": [],
   "source": [
    "cut = wavedf.drop(columns='frequency')"
   ]
  },
  {
   "cell_type": "code",
   "execution_count": null,
   "metadata": {},
   "outputs": [],
   "source": [
    "pts = hv.Points(cut).opts(tools=['tap', 'box_select'], width=500, height=400, size=7, line_color='black')\n",
    "selection = streams.Selection1D(source=pts)\n",
    "pts"
   ]
  },
  {
   "cell_type": "code",
   "execution_count": null,
   "metadata": {},
   "outputs": [],
   "source": [
    "observables_dmap = hv.DynamicMap(check_plot_observables, streams=[selection]).opts(framewise=True)"
   ]
  },
  {
   "cell_type": "code",
   "execution_count": null,
   "metadata": {
    "tags": []
   },
   "outputs": [],
   "source": [
    "observables_dmap"
   ]
  },
  {
   "cell_type": "code",
   "execution_count": null,
   "metadata": {},
   "outputs": [],
   "source": [
    "selection.contents"
   ]
  },
  {
   "cell_type": "code",
   "execution_count": null,
   "metadata": {},
   "outputs": [],
   "source": [
    "plots = {}\n",
    "observables = [waveforms, coswav]\n",
    "plotting_info = {}\n",
    "for each in observables:\n",
    "    for i in range(len(each.name)):\n",
    "        if each.plot_opts is None:\n",
    "            specific_opts = None\n",
    "        elif each.plot_opts[i] is not None:\n",
    "            specific_opts = each.plot_opts[i]\n",
    "        plotting_info[each.name[i]] = {'type': each.plot_type[i], 'opts': specific_opts}\n",
    "def check_plot_observables(index):\n",
    "    if not index:\n",
    "        plots_list = []\n",
    "        for name in plotting_info:\n",
    "            hv_type = getattr(hv, plotting_info[name]['type'])\n",
    "            empty_plot = hv_type(np.random.rand(0, 2)).relabel(f'{name} - No Selection').opts(height=400, width=500, fontscale=1.1, framewise=True)\n",
    "            if plotting_info[name]['opts'] is not None:\n",
    "                empty_plot.opts(plotting_info[name]['opts'])\n",
    "            plots_list.append([empty_plot])\n",
    "    else:\n",
    "        new_index = [x for x in index if x not in list(plots.keys())]\n",
    "        for element in new_index:\n",
    "            new_plots = []\n",
    "            for each in observables:\n",
    "                new_plots.extend(each.generate_plot(element))\n",
    "            plots[element] = {plot.label: plot for plot in new_plots}\n",
    "\n",
    "        plots_list = []\n",
    "        for index_item in index:\n",
    "            plot_types = list(plots[index_item].keys())\n",
    "\n",
    "        for plot_item in plot_types:\n",
    "            same_type = [plots[key][plot_item] for key in index]\n",
    "            plots_list.append(same_type)\n",
    "\n",
    "    layout = hv.Layout()\n",
    "    for list_of_plots in plots_list:\n",
    "        overlay = hv.Overlay(list_of_plots).opts(show_legend=False)\n",
    "        layout = layout + overlay\n",
    "    layout.opts(shared_axes=False).cols(3)\n",
    "    return layout"
   ]
  },
  {
   "cell_type": "code",
   "execution_count": null,
   "metadata": {},
   "outputs": [],
   "source": [
    "check_plot_observables([1,2,3])"
   ]
  },
  {
   "cell_type": "code",
   "execution_count": null,
   "metadata": {},
   "outputs": [],
   "source": [
    "coswav.draw_plot(99)"
   ]
  },
  {
   "cell_type": "code",
   "execution_count": null,
   "metadata": {},
   "outputs": [],
   "source": [
    "xs = np.linspace(0, np.pi*2)\n",
    "ys = np.sin(xs)\n",
    "# curve = hv.Curve((xs, ys))\n",
    "# curve + hv.Histogram(curve)\n",
    "hv.Histogram((xs, ys))"
   ]
  },
  {
   "cell_type": "code",
   "execution_count": null,
   "metadata": {},
   "outputs": [],
   "source": [
    "hv.help(hv.Bars)"
   ]
  },
  {
   "cell_type": "code",
   "execution_count": null,
   "metadata": {},
   "outputs": [],
   "source": []
  }
 ],
 "metadata": {
  "kernelspec": {
   "display_name": "Python 3 (ipykernel)",
   "language": "python",
   "name": "python3"
  },
  "language_info": {
   "codemirror_mode": {
    "name": "ipython",
    "version": 3
   },
   "file_extension": ".py",
   "mimetype": "text/x-python",
   "name": "python",
   "nbconvert_exporter": "python",
   "pygments_lexer": "ipython3",
   "version": "3.10.9"
  }
 },
 "nbformat": 4,
 "nbformat_minor": 4
}
